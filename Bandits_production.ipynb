{
  "nbformat": 4,
  "nbformat_minor": 0,
  "metadata": {
    "colab": {
      "provenance": [],
      "authorship_tag": "ABX9TyNVvV6iZt7VrYboqZr532LQ",
      "include_colab_link": true
    },
    "kernelspec": {
      "name": "python3",
      "display_name": "Python 3"
    },
    "language_info": {
      "name": "python"
    }
  },
  "cells": [
    {
      "cell_type": "markdown",
      "metadata": {
        "id": "view-in-github",
        "colab_type": "text"
      },
      "source": [
        "<a href=\"https://colab.research.google.com/github/ManjunathAdi/Bandits/blob/main/Bandits_production.ipynb\" target=\"_parent\"><img src=\"https://colab.research.google.com/assets/colab-badge.svg\" alt=\"Open In Colab\"/></a>"
      ]
    },
    {
      "cell_type": "code",
      "execution_count": 5,
      "metadata": {
        "id": "okOzW2lKcORy"
      },
      "outputs": [],
      "source": []
    },
    {
      "cell_type": "code",
      "source": [
        "# Bhagavan Mahamrityunjaya Mahadev"
      ],
      "metadata": {
        "id": "BbY8DjnKucMz"
      },
      "execution_count": 13,
      "outputs": []
    },
    {
      "cell_type": "code",
      "source": [],
      "metadata": {
        "id": "BlC3SUjsuV2m"
      },
      "execution_count": null,
      "outputs": []
    },
    {
      "cell_type": "markdown",
      "source": [
        "# Step 1:  Define the Architecture\n",
        "\n",
        "In a microservices architecture, each service is a standalone component that can be scaled and deployed independently. In this case, we will deploy a Bandit-based recommendation system where:\n",
        "\n",
        "* Front-end service: This interacts with the users.\n",
        "* Bandit algorithm service: This handles the decision-making for real-time personalized recommendations.\n",
        "* Recommendation database: Stores and updates information about user preferences and historical data.\n",
        "* Model management service: This can handle retraining of the model based on new data.\n",
        "* Monitoring service: This tracks the performance and accuracy of the recommendations.\n",
        "\n",
        "The architecture includes:\n",
        "\n",
        "* 1.] API Gateway: Entry point for incoming requests.\n",
        "* 2.] Bandit Algorithm Service: Deployed as a microservice using Docker and Kubernetes.\n",
        "* 3.] Database: Stores data like user history, action-reward logs.\n",
        "*4.] Monitoring and Metrics: Provides insights into the performance and A/B testing."
      ],
      "metadata": {
        "id": "mensaFDq8mGo"
      }
    },
    {
      "cell_type": "code",
      "source": [],
      "metadata": {
        "id": "dUE50WLKcR-M"
      },
      "execution_count": null,
      "outputs": []
    },
    {
      "cell_type": "markdown",
      "source": [
        "# Step 2: Implement the Bandit Algorithm\n",
        "\n",
        "Let’s start by implementing the Bandit-based reinforcement learning algorithm.\n",
        "\n",
        "For simplicity, we will use an Epsilon-Greedy Bandit."
      ],
      "metadata": {
        "id": "rU0KpRiW9YkQ"
      }
    },
    {
      "cell_type": "code",
      "source": [
        "import random\n",
        "\n",
        "class EpsilonGreedyBandit:\n",
        "    def __init__(self, n_arms, epsilon=0.1):\n",
        "        self.n_arms = n_arms\n",
        "        self.epsilon = epsilon\n",
        "        self.counts = [0] * n_arms  # Track the number of times each arm was chosen\n",
        "        self.values = [0.0] * n_arms  # Estimated value of each arm\n",
        "\n",
        "    def select_arm(self):\n",
        "        # With probability epsilon, choose a random arm (exploration)\n",
        "        if random.random() < self.epsilon:\n",
        "            return random.randrange(self.n_arms)\n",
        "        # Otherwise choose the arm with the highest estimated value (exploitation)\n",
        "        return max(range(self.n_arms), key=lambda x: self.values[x])\n",
        "\n",
        "    def update(self, chosen_arm, reward):\n",
        "        # Update counts\n",
        "        self.counts[chosen_arm] += 1\n",
        "        # Update the estimated value of the chosen arm\n",
        "        n = self.counts[chosen_arm]\n",
        "        value = self.values[chosen_arm]\n",
        "        # Incremental update to the mean\n",
        "        self.values[chosen_arm] = ((n - 1) / n) * value + (1 / n) * reward\n"
      ],
      "metadata": {
        "id": "o3UVWRX3cSGd"
      },
      "execution_count": 7,
      "outputs": []
    },
    {
      "cell_type": "code",
      "source": [],
      "metadata": {
        "id": "K4bEdGlWcSJX"
      },
      "execution_count": null,
      "outputs": []
    },
    {
      "cell_type": "markdown",
      "source": [
        "# Step 3: Build the Bandit Algorithm Microservice with Flask\n",
        "\n",
        "Now we encapsulate the Bandit algorithm into a microservice using Flask.\n",
        "\n",
        "This service will have two endpoints:\n",
        "* /recommend: to get the recommendation (i.e., select an arm).\n",
        "* /reward: to update the model with a reward after an action is taken."
      ],
      "metadata": {
        "id": "zjFPlM00-CV2"
      }
    },
    {
      "cell_type": "code",
      "source": [],
      "metadata": {
        "id": "ys3PlWSbcSPx"
      },
      "execution_count": null,
      "outputs": []
    },
    {
      "cell_type": "code",
      "source": [
        "# Flask API for Bandit Microservice:\n",
        "\n",
        "#This code creates a simple microservice that listens for incoming requests,\n",
        "#selects a recommendation (an arm), and updates the model based on the reward.\n",
        "\n",
        "from flask import Flask, request, jsonify\n",
        "#from bandit import EpsilonGreedyBandit\n",
        "\n",
        "app = Flask(__name__)\n",
        "\n",
        "# Initialize the Bandit algorithm with 3 arms\n",
        "bandit = EpsilonGreedyBandit(n_arms=3)\n",
        "\n",
        "@app.route('/recommend', methods=['GET'])\n",
        "def recommend():\n",
        "    chosen_arm = bandit.select_arm()\n",
        "    return jsonify({'chosen_arm': chosen_arm})\n",
        "\n",
        "@app.route('/reward', methods=['POST'])\n",
        "def reward():\n",
        "    data = request.json\n",
        "    chosen_arm = data['chosen_arm']\n",
        "    reward = data['reward']\n",
        "    bandit.update(chosen_arm, reward)\n",
        "    return jsonify({'message': 'Reward updated successfully'})\n",
        "\n",
        "if __name__ == '__main__':\n",
        "    app.run(host='0.0.0.0', port=5000)\n",
        "\n"
      ],
      "metadata": {
        "colab": {
          "base_uri": "https://localhost:8080/"
        },
        "id": "NaQ0k9GlhiX6",
        "outputId": "aa00e9b2-d033-423d-9c0b-c69546d31089"
      },
      "execution_count": 10,
      "outputs": [
        {
          "output_type": "stream",
          "name": "stdout",
          "text": [
            " * Serving Flask app '__main__'\n",
            " * Debug mode: off\n"
          ]
        },
        {
          "output_type": "stream",
          "name": "stderr",
          "text": [
            "INFO:werkzeug:\u001b[31m\u001b[1mWARNING: This is a development server. Do not use it in a production deployment. Use a production WSGI server instead.\u001b[0m\n",
            " * Running on all addresses (0.0.0.0)\n",
            " * Running on http://127.0.0.1:5000\n",
            " * Running on http://172.28.0.12:5000\n",
            "INFO:werkzeug:\u001b[33mPress CTRL+C to quit\u001b[0m\n"
          ]
        }
      ]
    },
    {
      "cell_type": "code",
      "source": [],
      "metadata": {
        "id": "JyPr6GU7hiaX"
      },
      "execution_count": null,
      "outputs": []
    },
    {
      "cell_type": "markdown",
      "source": [
        "#Step 4: Containerize the Microservice Using Docker\n",
        "\n",
        "Next, we will containerize the Flask microservice using Docker so it can be deployed in any environment."
      ],
      "metadata": {
        "id": "talihrJp-aYo"
      }
    },
    {
      "cell_type": "code",
      "source": [
        "# Dockerfile:\n",
        "\n",
        "# Use an official Python runtime as a parent image\n",
        "FROM python:3.8-slim\n",
        "\n",
        "# Set the working directory in the container\n",
        "WORKDIR /app\n",
        "\n",
        "# Copy the current directory contents into the container at /app\n",
        "COPY . /app\n",
        "\n",
        "# Install the required packages\n",
        "RUN pip install flask\n",
        "\n",
        "# Make port 5000 available to the world outside this container\n",
        "EXPOSE 5000\n",
        "\n",
        "# Run app.py when the container launches\n",
        "CMD [\"python\", \"app.py\"]\n"
      ],
      "metadata": {
        "id": "5Alr8MJzhif-"
      },
      "execution_count": null,
      "outputs": []
    },
    {
      "cell_type": "code",
      "source": [
        "# Build and run the Docker container:\n",
        "\n",
        "# Build the image\n",
        "docker build -t bandit-service .\n",
        "\n",
        "# Run the container\n",
        "docker run -p 5000:5000 bandit-service"
      ],
      "metadata": {
        "id": "5WizzWHHhii_"
      },
      "execution_count": null,
      "outputs": []
    },
    {
      "cell_type": "code",
      "source": [],
      "metadata": {
        "id": "bvHhIDQuhil4"
      },
      "execution_count": null,
      "outputs": []
    },
    {
      "cell_type": "markdown",
      "source": [
        "#Step 5: Deploy on Kubernetes\n",
        "\n",
        "To scale and orchestrate this microservice, we will deploy it on Kubernetes.\n",
        "\n",
        "Here’s how to deploy it on Kubernetes using Minikube or a cloud provider like AWS or GCP."
      ],
      "metadata": {
        "id": "x1PSqzSQ_MGr"
      }
    },
    {
      "cell_type": "code",
      "source": [
        "# Kubernetes Deployment YAML:\n",
        "\n",
        "apiVersion: apps/v1\n",
        "kind: Deployment\n",
        "metadata:\n",
        "  name: bandit-service-deployment\n",
        "spec:\n",
        "  replicas: 3\n",
        "  selector:\n",
        "    matchLabels:\n",
        "      app: bandit-service\n",
        "  template:\n",
        "    metadata:\n",
        "      labels:\n",
        "        app: bandit-service\n",
        "    spec:\n",
        "      containers:\n",
        "      - name: bandit-service\n",
        "        image: bandit-service:latest\n",
        "        ports:\n",
        "        - containerPort: 5000\n",
        "        resources:\n",
        "          requests:\n",
        "            cpu: \"100m\"\n",
        "            memory: \"200Mi\"\n",
        "          limits:\n",
        "            cpu: \"500m\"\n",
        "            memory: \"500Mi\"\n",
        "---\n",
        "apiVersion: v1\n",
        "kind: Service\n",
        "metadata:\n",
        "  name: bandit-service\n",
        "spec:\n",
        "  type: LoadBalancer\n",
        "  ports:\n",
        "  - port: 80\n",
        "    targetPort: 5000\n",
        "  selector:\n",
        "    app: bandit-service\n"
      ],
      "metadata": {
        "id": "lCOEl1R6i4PN"
      },
      "execution_count": null,
      "outputs": []
    },
    {
      "cell_type": "markdown",
      "source": [
        " This YAML file deploys 3 replicas of the Bandit microservice and exposes it via a load balancer, allowing real-time scalability and high availability."
      ],
      "metadata": {
        "id": "mvrvN_wn_DdD"
      }
    },
    {
      "cell_type": "code",
      "source": [
        "# Deploy on Kubernetes:\n",
        "\n",
        "# Apply the deployment and service\n",
        "kubectl apply -f bandit-deployment.yaml\n",
        "\n",
        "# Check the deployment status\n",
        "kubectl get deployments\n",
        "\n",
        "# Get the service URL (on cloud providers like AWS or GCP)\n",
        "kubectl get svc"
      ],
      "metadata": {
        "id": "odtWnGFzi4T_"
      },
      "execution_count": null,
      "outputs": []
    },
    {
      "cell_type": "code",
      "source": [],
      "metadata": {
        "id": "Sy16MmoDjJe_"
      },
      "execution_count": null,
      "outputs": []
    },
    {
      "cell_type": "markdown",
      "source": [
        "#Step 6: Add Monitoring and Metrics\n",
        "\n",
        "For monitoring, you can integrate Prometheus and Grafana to track key metrics like:\n",
        "* Number of recommendations served\n",
        "* Reward rates\n",
        "* System resource usage (CPU, memory)"
      ],
      "metadata": {
        "id": "8f9Gvxmr_asL"
      }
    },
    {
      "cell_type": "code",
      "source": [
        "# Here’s an example of integrating Prometheus:\n",
        "\n",
        "# 1.] Add a Prometheus client to your Flask service.\n",
        "!pip install prometheus-flask-exporter\n",
        "\n",
        "# 2.] Modify your Flask app to expose Prometheus metrics.\n",
        "from prometheus_flask_exporter import PrometheusMetrics\n",
        "\n",
        "metrics = PrometheusMetrics(app)\n",
        "\n",
        "# 3.] Deploy Prometheus and Grafana on Kubernetes using Helm:\n",
        "helm install prometheus prometheus-community/prometheus\n",
        "helm install grafana grafana/grafana\n"
      ],
      "metadata": {
        "id": "QU8vSm4QjJjt"
      },
      "execution_count": null,
      "outputs": []
    },
    {
      "cell_type": "code",
      "source": [],
      "metadata": {
        "id": "IVonfjMvjJml"
      },
      "execution_count": null,
      "outputs": []
    },
    {
      "cell_type": "markdown",
      "source": [
        "# Step 7: Scale the System"
      ],
      "metadata": {
        "id": "HmwfaO7Z_o5-"
      }
    },
    {
      "cell_type": "code",
      "source": [
        "#With Kubernetes, you can easily scale the system horizontally by increasing the number of replicas\n",
        "#for the Bandit microservice:\n",
        "\n",
        "kubectl scale deployment bandit-service-deployment --replicas=5\n",
        "\n",
        "#Kubernetes will automatically load balance incoming requests across the replicas, ensuring scalability."
      ],
      "metadata": {
        "id": "febAwvlUjJpx"
      },
      "execution_count": null,
      "outputs": []
    },
    {
      "cell_type": "code",
      "source": [],
      "metadata": {
        "id": "WmuSvHJqi4WP"
      },
      "execution_count": null,
      "outputs": []
    },
    {
      "cell_type": "markdown",
      "source": [
        "# Summary\n",
        "\n",
        "We implemented a scalable microservices architecture for a Bandit-based reinforcement learning system using:\n",
        "\n",
        "* 1.] Flask for serving the Bandit algorithm as an API.\n",
        "* 2.] Docker to containerize the service.\n",
        "* 3.] Kubernetes for scalable deployment and orchestration.\n",
        "* 4.] Prometheus/Grafana for monitoring.\n",
        "\n",
        "This system is designed to handle real-time requests, automatically scale, and provide personalized recommendations with\n",
        "continuous feedback loops."
      ],
      "metadata": {
        "id": "s_EIYalR_zfb"
      }
    },
    {
      "cell_type": "code",
      "source": [],
      "metadata": {
        "id": "54lxoQcJkw5p"
      },
      "execution_count": null,
      "outputs": []
    },
    {
      "cell_type": "code",
      "source": [],
      "metadata": {
        "id": "HK4x53OKkw84"
      },
      "execution_count": null,
      "outputs": []
    },
    {
      "cell_type": "code",
      "source": [],
      "metadata": {
        "id": "goFuqq4NkxAD"
      },
      "execution_count": null,
      "outputs": []
    },
    {
      "cell_type": "markdown",
      "source": [
        "# Bandit System Interaction with Users and frontend-backend Integration"
      ],
      "metadata": {
        "id": "Hr1BSx6k_9XH"
      }
    },
    {
      "cell_type": "markdown",
      "source": [
        "In a Bandit-based recommendation system, the interaction between the backend (where the Bandit algorithm is deployed) and the frontend (where users make requests) happens through APIs.\n",
        "\n",
        "The frontend is responsible for collecting user input and displaying recommendations, while the backend (our Bandit service) handles decision-making and learning from the user’s interactions."
      ],
      "metadata": {
        "id": "rzowhRSiAGI9"
      }
    },
    {
      "cell_type": "code",
      "source": [],
      "metadata": {
        "id": "MWpVkNV-kQiX"
      },
      "execution_count": null,
      "outputs": []
    },
    {
      "cell_type": "markdown",
      "source": [
        "\n",
        "# 1.] User Visits the Website or Application\n",
        "\n",
        "When a user visits a website or opens the application where the Bandit-based recommendation system is implemented, they might be looking for product recommendations, content, or any personalized suggestions."
      ],
      "metadata": {
        "id": "KuLKr3lfBnQu"
      }
    },
    {
      "cell_type": "code",
      "source": [],
      "metadata": {
        "id": "kK2j0wlzBmN5"
      },
      "execution_count": null,
      "outputs": []
    },
    {
      "cell_type": "markdown",
      "source": [
        "# 2.] Frontend Sends a Request to the Bandit API\n",
        "\n",
        "When a user action is triggered (e.g., clicking on a \"Recommend Me\" button), the frontend (usually built using HTML/JavaScript or a framework like React/Angular) sends an HTTP request to the backend. This request typically hits the /recommend endpoint of the Bandit microservice.\n"
      ],
      "metadata": {
        "id": "Agq2esg4Bzoh"
      }
    },
    {
      "cell_type": "code",
      "source": [
        "#Here’s an example of how this might look in JavaScript on the frontend:\n",
        "\n",
        "function getRecommendation() {\n",
        "  // Sending request to the Bandit service\n",
        "  fetch('http://backend-service-url/recommend', {\n",
        "    method: 'GET',\n",
        "  })\n",
        "  .then(response => response.json())\n",
        "  .then(data => {\n",
        "    // Get the chosen arm from the response (this is the recommendation)\n",
        "    let recommendedItem = data.chosen_arm;\n",
        "    // Display the recommended item in the UI\n",
        "    displayRecommendation(recommendedItem);\n",
        "  })\n",
        "  .catch(error => console.error('Error fetching recommendation:', error));\n",
        "}\n",
        "\n",
        "function displayRecommendation(item) {\n",
        "  document.getElementById('recommendation').innerText = `We recommend item ${item}`;\n",
        "}\n",
        "\n"
      ],
      "metadata": {
        "id": "GAuJwu5tqrjK"
      },
      "execution_count": null,
      "outputs": []
    },
    {
      "cell_type": "code",
      "source": [],
      "metadata": {
        "id": "UNAliII8qrln"
      },
      "execution_count": null,
      "outputs": []
    },
    {
      "cell_type": "markdown",
      "source": [
        "# 3.] Backend Returns a Recommendation\n",
        "\n",
        "When the backend receives the request at the /recommend endpoint, the Bandit algorithm will select an arm (i.e., a recommended item) based on the current state of the algorithm."
      ],
      "metadata": {
        "id": "S8dbWTo7CMVG"
      }
    },
    {
      "cell_type": "code",
      "source": [
        "\n",
        "@app.route('/recommend', methods=['GET'])\n",
        "def recommend():\n",
        "    chosen_arm = bandit.select_arm()\n",
        "    return jsonify({'chosen_arm': chosen_arm})\n",
        "\n",
        "\n",
        "# The backend will respond with a JSON object, for example: {\"chosen_arm\": 2}.\n",
        "#The chosen arm represents the recommended content or product (e.g., item ID 2)."
      ],
      "metadata": {
        "id": "aVor-0vMqror"
      },
      "execution_count": null,
      "outputs": []
    },
    {
      "cell_type": "code",
      "source": [],
      "metadata": {
        "id": "ZinaIcApqrri"
      },
      "execution_count": null,
      "outputs": []
    },
    {
      "cell_type": "markdown",
      "source": [
        "# 4.] Frontend Displays the Recommendation to the User\n",
        "\n",
        "Once the frontend receives the recommended item from the Bandit system, it updates the UI to display the recommendation.\n",
        "\n"
      ],
      "metadata": {
        "id": "d7OlZHTkCdDj"
      }
    },
    {
      "cell_type": "code",
      "source": [
        "\n",
        "# In the example JavaScript code above, this might look like:\n",
        "\n",
        " div id=\"recommendation\" We recommend item X /div\n",
        "\n",
        "#When the recommendation is received, the inner text of this element is updated to reflect the recommendation."
      ],
      "metadata": {
        "id": "ObQSYc2BkQnu"
      },
      "execution_count": null,
      "outputs": []
    },
    {
      "cell_type": "code",
      "source": [],
      "metadata": {
        "id": "r21vqNedHi7L"
      },
      "execution_count": null,
      "outputs": []
    },
    {
      "cell_type": "markdown",
      "source": [
        "# 5.] User Interacts with the Recommendation (e.g., Clicks, Purchases, etc.)\n",
        "\n",
        "The user interacts with the recommendation by taking an action such as clicking on the recommended item, watching a recommended video, or purchasing a suggested product."
      ],
      "metadata": {
        "id": "kRsWL4cCD0Fg"
      }
    },
    {
      "cell_type": "code",
      "source": [],
      "metadata": {
        "id": "myGaEwWwsDFl"
      },
      "execution_count": null,
      "outputs": []
    },
    {
      "cell_type": "markdown",
      "source": [
        "# 6.] Frontend Sends Feedback to the Bandit System\n",
        "\n",
        "After the user interacts with the recommendation, the frontend sends feedback to the Bandit system.\n",
        "This feedback is crucial for training the algorithm. For example, if the user clicked on the recommended item,\n",
        "the frontend can send a positive reward to the Bandit system.\n"
      ],
      "metadata": {
        "id": "LMZOUMF4DmwV"
      }
    },
    {
      "cell_type": "code",
      "source": [
        "# Here's how the frontend can send the reward back to the Bandit system using the /reward endpoint:\n",
        "\n",
        "function sendReward(chosenArm, reward) {\n",
        "  fetch('http://backend-service-url/reward', {\n",
        "    method: 'POST',\n",
        "    headers: {\n",
        "      'Content-Type': 'application/json'\n",
        "    },\n",
        "    body: JSON.stringify({\n",
        "      chosen_arm: chosenArm,\n",
        "      reward: reward  // 1 for success (e.g., clicked), 0 for failure\n",
        "    })\n",
        "  })\n",
        "  .then(response => response.json())\n",
        "  .then(data => console.log('Reward sent successfully:', data))\n",
        "  .catch(error => console.error('Error sending reward:', error));\n",
        "}\n",
        "\n",
        "# Reward: If the user clicked or engaged with the recommended item, a reward (e.g., 1) is sent.\n",
        "#If the user ignored the recommendation or gave negative feedback, a different reward (e.g., 0) is sent.\n",
        "\n",
        "#This feedback helps the Bandit system update its internal model, learning from the user's behavior to improve future recommendations.\n",
        "\n",
        "# Example: json\n",
        "{\n",
        "  \"chosen_arm\": 2,\n",
        "  \"reward\": 1\n",
        "}"
      ],
      "metadata": {
        "id": "C-jGtat7sDLd"
      },
      "execution_count": null,
      "outputs": []
    },
    {
      "cell_type": "code",
      "source": [
        "# The Bandit system then updates its internal state:\n",
        "\n",
        "@app.route('/reward', methods=['POST'])\n",
        "def reward():\n",
        "    data = request.json\n",
        "    chosen_arm = data['chosen_arm']\n",
        "    reward = data['reward']\n",
        "    bandit.update(chosen_arm, reward)\n",
        "    return jsonify({'message': 'Reward updated successfully'})"
      ],
      "metadata": {
        "id": "ZOW1NmifsDOU"
      },
      "execution_count": null,
      "outputs": []
    },
    {
      "cell_type": "code",
      "source": [],
      "metadata": {
        "id": "VVca7s8Bi4bA"
      },
      "execution_count": null,
      "outputs": []
    },
    {
      "cell_type": "markdown",
      "source": [
        "# 7.] Backend Updates the Bandit Algorithm\n",
        "\n",
        "When the backend receives the reward data, the Bandit algorithm updates its internal values for the chosen arm based on the received reward. This helps the algorithm learn and improve its decision-making process over time.\n"
      ],
      "metadata": {
        "id": "kqwKKU3OCxEr"
      }
    },
    {
      "cell_type": "code",
      "source": [
        "\n",
        "#In the Bandit service, the following method updates the Bandit’s knowledge of which arms (recommendations) are performing well:\n",
        "def update(self, chosen_arm, reward):\n",
        "    self.counts[chosen_arm] += 1\n",
        "    n = self.counts[chosen_arm]\n",
        "    value = self.values[chosen_arm]\n",
        "    self.values[chosen_arm] = ((n - 1) / n) * value + (1 / n) * reward\n",
        "\n"
      ],
      "metadata": {
        "id": "D0GUXfwqshya"
      },
      "execution_count": null,
      "outputs": []
    },
    {
      "cell_type": "code",
      "source": [],
      "metadata": {
        "id": "HNXwqZOwsh1L"
      },
      "execution_count": null,
      "outputs": []
    },
    {
      "cell_type": "markdown",
      "source": [
        "# 8.] User Receives Improved Recommendations\n",
        "\n",
        "Over time, as the system receives more feedback and learns from user interactions, the recommendations become more personalized and accurate, improving the user experience and engagement."
      ],
      "metadata": {
        "id": "d-U15FMECpX4"
      }
    },
    {
      "cell_type": "code",
      "source": [],
      "metadata": {
        "id": "Ai-cbqVnsh7j"
      },
      "execution_count": null,
      "outputs": []
    },
    {
      "cell_type": "markdown",
      "source": [
        "#Visual Interaction Flow\n",
        "\n",
        "* User Request: User clicks \"Recommend Me\" → Frontend sends GET request to /recommend.\n",
        "* Backend Response: Bandit service responds with the recommended item (e.g., Item 2).\n",
        "* Frontend Action: Frontend displays the recommendation to the user.\n",
        "*  User Interaction: User clicks on the recommended item.\n",
        "* Feedback Loop: Frontend sends POST request to /reward with the chosen arm and reward (1 for positive interaction).\n",
        "* Learning: Bandit service updates its model based on the reward, improving future recommendations."
      ],
      "metadata": {
        "id": "txk9at2PBVuf"
      }
    },
    {
      "cell_type": "code",
      "source": [],
      "metadata": {
        "id": "-m_RcK30siDX"
      },
      "execution_count": null,
      "outputs": []
    },
    {
      "cell_type": "code",
      "source": [
        "# Example of Simplified Frontend Implementation\n",
        "\n",
        "#This is a simplified HTML and JavaScript frontend that interacts with the Bandit recommendation system:\n",
        "'''\n",
        "<!DOCTYPE html>\n",
        "<html lang=\"en\">\n",
        "<head>\n",
        "  <meta charset=\"UTF-8\">\n",
        "  <meta name=\"viewport\" content=\"width=device-width, initial-scale=1.0\">\n",
        "  <title>Bandit Recommendation System</title>\n",
        "</head>\n",
        "<body>\n",
        "  <h1>Personalized Recommendations</h1>\n",
        "  <div id=\"recommendation\">Click the button to get a recommendation</div>\n",
        "  <button onclick=\"getRecommendation()\">Recommend Me</button>\n",
        "\n",
        "  <script>\n",
        "    let currentRecommendation;\n",
        "\n",
        "    function getRecommendation() {\n",
        "      fetch('http://localhost:5000/recommend', {\n",
        "        method: 'GET'\n",
        "      })\n",
        "      .then(response => response.json())\n",
        "      .then(data => {\n",
        "        currentRecommendation = data.chosen_arm;\n",
        "        document.getElementById('recommendation').innerText = `We recommend item ${currentRecommendation}`;\n",
        "      })\n",
        "      .catch(error => console.error('Error fetching recommendation:', error));\n",
        "    }\n",
        "\n",
        "    function sendReward(reward) {\n",
        "      fetch('http://localhost:5000/reward', {\n",
        "        method: 'POST',\n",
        "        headers: {\n",
        "          'Content-Type': 'application/json'\n",
        "        },\n",
        "        body: JSON.stringify({\n",
        "          chosen_arm: currentRecommendation,\n",
        "          reward: reward  // Reward is either 1 for clicked, or 0 for not clicked\n",
        "        })\n",
        "      })\n",
        "      .then(response => response.json())\n",
        "      .then(data => console.log('Reward sent successfully:', data))\n",
        "      .catch(error => console.error('Error sending reward:', error));\n",
        "    }\n",
        "  </script>\n",
        "</body>\n",
        "</html>\n",
        "\n",
        "'''"
      ],
      "metadata": {
        "id": "40rg-Hlttc7u"
      },
      "execution_count": null,
      "outputs": []
    },
    {
      "cell_type": "code",
      "source": [],
      "metadata": {
        "id": "Ja_XBlBotc_L"
      },
      "execution_count": null,
      "outputs": []
    },
    {
      "cell_type": "code",
      "source": [],
      "metadata": {
        "id": "o6kFQbsDtdBN"
      },
      "execution_count": null,
      "outputs": []
    },
    {
      "cell_type": "code",
      "source": [],
      "metadata": {
        "id": "1gwX4YAotdEG"
      },
      "execution_count": null,
      "outputs": []
    }
  ]
}