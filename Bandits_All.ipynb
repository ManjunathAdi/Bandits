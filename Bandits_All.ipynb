{
  "nbformat": 4,
  "nbformat_minor": 0,
  "metadata": {
    "colab": {
      "provenance": [],
      "authorship_tag": "ABX9TyMPtOsdnm5URzvmUhkRmbc8",
      "include_colab_link": true
    },
    "kernelspec": {
      "name": "python3",
      "display_name": "Python 3"
    },
    "language_info": {
      "name": "python"
    }
  },
  "cells": [
    {
      "cell_type": "markdown",
      "metadata": {
        "id": "view-in-github",
        "colab_type": "text"
      },
      "source": [
        "<a href=\"https://colab.research.google.com/github/ManjunathAdi/Bandits/blob/main/Bandits_All.ipynb\" target=\"_parent\"><img src=\"https://colab.research.google.com/assets/colab-badge.svg\" alt=\"Open In Colab\"/></a>"
      ]
    },
    {
      "cell_type": "code",
      "execution_count": null,
      "metadata": {
        "id": "Z3CD-hov5V5R"
      },
      "outputs": [],
      "source": [
        "# Bhagavan Mahamrityunjaya Mahadev"
      ]
    },
    {
      "cell_type": "code",
      "source": [],
      "metadata": {
        "id": "DtNXHIV05bGT"
      },
      "execution_count": null,
      "outputs": []
    },
    {
      "cell_type": "markdown",
      "source": [
        "# BANDITS -"
      ],
      "metadata": {
        "id": "c1Mdge1tMklp"
      }
    },
    {
      "cell_type": "markdown",
      "source": [
        "**1. ε-Greedy Algorithm**\n",
        "\n",
        "Imagine you're unsure which ad will perform best, so you need to try different ones to figure it out. The ε-Greedy algorithm works by:\n",
        "\n",
        "* Exploitation: Most of the time (say 90% of the time), it shows the ad that has the best performance so far (i.e., the one with the most clicks).\n",
        "\n",
        "* Exploration: The rest of the time (10%), it randomly chooses an ad to see if it performs better.\n",
        "\n",
        "* Visualizing ε-Greedy:\n",
        "\n",
        "Think of it like a dice game:\n",
        "You roll the dice most of the time (90%) to pick the ad with the highest score.\n",
        "Sometimes (10%), you roll the dice to pick a random ad to see if there’s a better option out there.\n",
        "\n",
        "\n",
        "**2. Upper Confidence Bound (UCB)**\n",
        "\n",
        "UCB is a bit more strategic. It tries to be confident about which ad is the best, but it also knows that ads it hasn’t shown much might still be good. It tries to:\n",
        "\n",
        "* Pick the ad with the highest average reward (best performance).\n",
        "* But it also adds a bonus for ads it hasn't tried much yet, giving them a chance to prove themselves.\n",
        "\n",
        "This way, UCB balances exploration and exploitation by trying to explore ads that haven't been shown enough while still favoring the best-performing ads.\n",
        "\n",
        "* UCB Visualization:\n",
        "\n",
        "Imagine you have a treasure chest (an ad) with some unknown treasure (potential reward). You’ve opened some treasure chests more often, so you know how much they generally have. UCB encourages you to open those that you haven't opened much to see if they might have more treasure hidden.\n",
        "\n",
        "**3. Thompson Sampling (Bayesian Bandits)**\n",
        "\n",
        "Thompson Sampling takes a Bayesian approach, meaning it makes decisions based on probabilities and uncertainty. It samples from the probability distributions for each ad's performance, trying to guess which one will perform best.\n",
        "\n",
        "* Exploitation: It often picks ads that have worked well.\n",
        "* Exploration: It also considers the uncertainty about each ad. If an ad hasn’t been shown much, it may still explore it because there’s a chance it might be good.\n",
        "\n",
        "* Thompson Sampling Visualization:\n",
        "\n",
        "Imagine each ad is a different slot machine, and every time you play (show an ad), you get some reward (clicks). Thompson Sampling acts like you’re estimating the potential of each slot machine (ad) based on how many times you've pulled the lever (shown the ad), and sometimes you try the less-played machines to see if they might pay off more.\n",
        "\n",
        "**4. KL-UCB (Kullback-Leibler UCB)**\n",
        "\n",
        "KL-UCB is similar to UCB but uses a more sophisticated statistical method to measure how different one ad’s performance is from another. It uses something called Kullback-Leibler (KL) divergence to calculate confidence intervals more accurately.\n",
        "\n",
        "* It picks the ad with the best performance, but it’s better at calculating whether it has really learned enough about the ads that have been shown less.\n",
        "\n",
        "* KL-UCB Visualization:\n",
        "\n",
        "Imagine you’re watching a race between the ads. Some ads have run more laps (been shown more), so you know they are good or bad. But KL-UCB is smart in calculating how far behind the other ads are in the race and decides if it should give those under-explored ads another chance.\n",
        "\n",
        "**5. Bayesian UCB**\n",
        "\n",
        "This algorithm is like UCB, but it’s more probabilistic. It uses Bayesian statistics to calculate the confidence intervals for each ad’s performance. Instead of just averaging, it looks at how uncertain we are about each ad’s performance and adjusts its strategy accordingly.\n",
        "\n",
        "* Bayesian UCB Visualization:\n",
        "\n",
        "Think of Bayesian UCB as someone making decisions with dice where the dice probabilities change based on what they’ve observed so far. When the algorithm hasn’t seen much data about an ad, it throws a wider range of probabilities (uncertainty), giving that ad a better chance to be picked.\n",
        "\n",
        "**6. EXP3 (Adversarial Bandits)**\n",
        "\n",
        "EXP3 is designed for situations where the environment is changing or even adversarial. Imagine users or competitors are actively changing things. EXP3 assumes that ads’ performances can change over time, and it:\n",
        "\n",
        "* Randomly picks ads but weights the selection by how well ads have performed recently.\n",
        "\n",
        "* EXP3 Visualization:\n",
        "\n",
        "Imagine you’re running a game where someone else might be actively changing the rules (e.g., an ad's effectiveness might go down because users are getting tired of it). EXP3 adapts by keeping a weighted history of each ad's performance and trying different ads based on this shifting history.\n",
        "\n",
        "**7. Hybrid Bandit (Bandit + Collaborative Filtering)**\n",
        "\n",
        "Hybrid Bandit combines collaborative filtering (like what Netflix uses for movie recommendations) with bandit exploration. It tries to leverage existing knowledge (e.g., previous user interactions or preferences) while still exploring new ads.\n",
        "\n",
        "* Collaborative Filtering: Learns user preferences from historical data (e.g., if similar users liked Ad A).\n",
        "* Bandit Exploration: Adds exploration by occasionally showing different ads to learn more about user preferences.\n",
        "\n",
        "* Hybrid Bandit Visualization:\n",
        "\n",
        "Imagine you’re recommending ads based on what users with similar preferences liked in the past. Hybrid Bandit will use this knowledge but still occasionally show new ads to see if they might be even better.\n",
        "\n",
        "**8. Contextual Bandit (LinUCB)**\n",
        "\n",
        "Unlike basic bandits, Contextual Bandits (like LinUCB) take into account user features (e.g., age, location, browsing history) when deciding which ad to show. It tries to:\n",
        "\n",
        "* Find ads that work well for specific types of users.\n",
        "* Balance exploration by occasionally trying new ads for users with different features.\n",
        "\n",
        "* Contextual Bandit Visualization:\n",
        "\n",
        "Imagine you're running an online store, and you know that younger users tend to click on certain ads more than older users. LinUCB tries to match users with the ads that are most likely to interest them based on their characteristics, but still tests new ads occasionally.\n",
        "\n",
        "**9. Neural Bandit**\n",
        "\n",
        "Neural Bandit takes contextual bandits to the next level by using neural networks to model complex, non-linear relationships between user features and ads. It can handle large numbers of user features and complex scenarios where the relationship between users and ads isn’t straightforward.\n",
        "\n",
        "* Neural Bandit Visualization:\n",
        "\n",
        "Imagine Neural Bandit is like a very smart recommendation engine that learns from patterns in user behavior, such as what time of day users click certain ads, or how browsing history affects their decisions. It uses a deep learning model to predict which ads will work best for different users, adjusting its predictions over time.\n",
        "\n",
        "# Summary of the Algorithms Using the Ads Example\n",
        "* ε-Greedy: Show the ad with the most clicks most of the time, but sometimes randomly show other ads to explore.\n",
        "* UCB: Show the ad with the highest average clicks but give unexplored ads a chance based on confidence intervals.\n",
        "* Thompson Sampling: Use probability distributions to explore ads that are less certain but might perform well.\n",
        "* KL-UCB: Use a more accurate method to explore ads that have been shown less.\n",
        "* Bayesian UCB: Combine confidence intervals and Bayesian statistics to explore ads based on uncertainty.\n",
        "* EXP3: Handle changing environments by exploring and weighting ad performance dynamically.\n",
        "* Hybrid Bandit: Use collaborative filtering to show ads similar users liked, but still explore new ones.\n",
        "* Contextual Bandit (LinUCB): Consider user-specific features to recommend ads tailored to individuals.\n",
        "* Neural Bandit: Use deep learning to model complex relationships between user features and ad performance.\n"
      ],
      "metadata": {
        "id": "VIxNY1iEbHH9"
      }
    },
    {
      "cell_type": "code",
      "source": [],
      "metadata": {
        "id": "vDv1nq10S0pb"
      },
      "execution_count": null,
      "outputs": []
    },
    {
      "cell_type": "code",
      "source": [],
      "metadata": {
        "id": "YEIxPzGvS0vJ"
      },
      "execution_count": null,
      "outputs": []
    },
    {
      "cell_type": "code",
      "source": [],
      "metadata": {
        "id": "8vW0VM2TS1I2"
      },
      "execution_count": null,
      "outputs": []
    },
    {
      "cell_type": "markdown",
      "source": [
        "# DATA SIMULATION:-\n",
        "\n",
        "Let's simulate two types of data:\n",
        "\n",
        "* 1.] Arm Data: Represents the potential actions (e.g., recommendations) available to the bandit algorithm. Each arm will have a reward probability that reflects its likelihood of being the best action.\n",
        "\n",
        "* 2.] User Data (for Contextual Bandits): This will include some features (e.g., demographic or behavioral data) that influence the rewards for the different arms."
      ],
      "metadata": {
        "id": "J5blm52zMRcY"
      }
    },
    {
      "cell_type": "code",
      "source": [],
      "metadata": {
        "id": "tX71rFhx5bIj"
      },
      "execution_count": null,
      "outputs": []
    },
    {
      "cell_type": "markdown",
      "source": [
        "### 1. Simulation of Data for Multi-Armed Bandit (MAB) Algorithms (ε-Greedy, UCB, Thompson Sampling)"
      ],
      "metadata": {
        "id": "mFOmQGYMM4UN"
      }
    },
    {
      "cell_type": "code",
      "source": [
        "\n",
        "#In these algorithms, the reward for each arm can be simulated as a Bernoulli random variable.\n",
        "#Each arm will have a different probability of producing a reward.\n",
        "\n",
        "#Simulated Data -\n",
        "#Number of Arms: Let's simulate 10 arms.\n",
        "#Reward Distribution: Each arm will have a different probability of success (reward), which will be drawn from a\n",
        "#uniform distribution between 0 and 1.\n",
        "\n",
        "import numpy as np\n",
        "import pandas as pd\n",
        "\n",
        "# Set random seed for reproducibility\n",
        "np.random.seed(42)\n",
        "\n",
        "# Simulate arms and their reward probabilities\n",
        "num_arms = 10\n",
        "arm_probabilities = np.random.uniform(0.2, 0.8, size=num_arms)  # Reward probability for each arm\n",
        "\n",
        "# Generate rewards for 10,000 rounds\n",
        "num_rounds = 100000\n",
        "rewards = np.zeros((num_rounds, num_arms))\n",
        "\n",
        "# Simulate Bernoulli rewards for each arm\n",
        "for i in range(num_arms):\n",
        "    rewards[:, i] = np.random.binomial(1, arm_probabilities[i], size=num_rounds)\n",
        "\n",
        "# Create a DataFrame for rewards\n",
        "df_rewards = pd.DataFrame(rewards, columns=[f'Arm_{i+1}' for i in range(num_arms)])\n",
        "df_rewards.head()\n"
      ],
      "metadata": {
        "colab": {
          "base_uri": "https://localhost:8080/",
          "height": 204
        },
        "id": "zGrQw6uAIWWq",
        "outputId": "a08666bf-1e5e-4306-c77d-7830606cbbd6"
      },
      "execution_count": 2,
      "outputs": [
        {
          "output_type": "execute_result",
          "data": {
            "text/plain": [
              "   Arm_1  Arm_2  Arm_3  Arm_4  Arm_5  Arm_6  Arm_7  Arm_8  Arm_9  Arm_10\n",
              "0    0.0    1.0    1.0    0.0    1.0    1.0    0.0    1.0    1.0     1.0\n",
              "1    1.0    0.0    1.0    0.0    0.0    1.0    1.0    1.0    1.0     1.0\n",
              "2    1.0    1.0    1.0    0.0    1.0    0.0    0.0    1.0    0.0     1.0\n",
              "3    0.0    1.0    1.0    0.0    1.0    0.0    0.0    1.0    1.0     1.0\n",
              "4    0.0    1.0    1.0    1.0    0.0    0.0    0.0    0.0    0.0     1.0"
            ],
            "text/html": [
              "\n",
              "  <div id=\"df-09436c62-0885-4eaa-9eed-9314fb146558\" class=\"colab-df-container\">\n",
              "    <div>\n",
              "<style scoped>\n",
              "    .dataframe tbody tr th:only-of-type {\n",
              "        vertical-align: middle;\n",
              "    }\n",
              "\n",
              "    .dataframe tbody tr th {\n",
              "        vertical-align: top;\n",
              "    }\n",
              "\n",
              "    .dataframe thead th {\n",
              "        text-align: right;\n",
              "    }\n",
              "</style>\n",
              "<table border=\"1\" class=\"dataframe\">\n",
              "  <thead>\n",
              "    <tr style=\"text-align: right;\">\n",
              "      <th></th>\n",
              "      <th>Arm_1</th>\n",
              "      <th>Arm_2</th>\n",
              "      <th>Arm_3</th>\n",
              "      <th>Arm_4</th>\n",
              "      <th>Arm_5</th>\n",
              "      <th>Arm_6</th>\n",
              "      <th>Arm_7</th>\n",
              "      <th>Arm_8</th>\n",
              "      <th>Arm_9</th>\n",
              "      <th>Arm_10</th>\n",
              "    </tr>\n",
              "  </thead>\n",
              "  <tbody>\n",
              "    <tr>\n",
              "      <th>0</th>\n",
              "      <td>0.0</td>\n",
              "      <td>1.0</td>\n",
              "      <td>1.0</td>\n",
              "      <td>0.0</td>\n",
              "      <td>1.0</td>\n",
              "      <td>1.0</td>\n",
              "      <td>0.0</td>\n",
              "      <td>1.0</td>\n",
              "      <td>1.0</td>\n",
              "      <td>1.0</td>\n",
              "    </tr>\n",
              "    <tr>\n",
              "      <th>1</th>\n",
              "      <td>1.0</td>\n",
              "      <td>0.0</td>\n",
              "      <td>1.0</td>\n",
              "      <td>0.0</td>\n",
              "      <td>0.0</td>\n",
              "      <td>1.0</td>\n",
              "      <td>1.0</td>\n",
              "      <td>1.0</td>\n",
              "      <td>1.0</td>\n",
              "      <td>1.0</td>\n",
              "    </tr>\n",
              "    <tr>\n",
              "      <th>2</th>\n",
              "      <td>1.0</td>\n",
              "      <td>1.0</td>\n",
              "      <td>1.0</td>\n",
              "      <td>0.0</td>\n",
              "      <td>1.0</td>\n",
              "      <td>0.0</td>\n",
              "      <td>0.0</td>\n",
              "      <td>1.0</td>\n",
              "      <td>0.0</td>\n",
              "      <td>1.0</td>\n",
              "    </tr>\n",
              "    <tr>\n",
              "      <th>3</th>\n",
              "      <td>0.0</td>\n",
              "      <td>1.0</td>\n",
              "      <td>1.0</td>\n",
              "      <td>0.0</td>\n",
              "      <td>1.0</td>\n",
              "      <td>0.0</td>\n",
              "      <td>0.0</td>\n",
              "      <td>1.0</td>\n",
              "      <td>1.0</td>\n",
              "      <td>1.0</td>\n",
              "    </tr>\n",
              "    <tr>\n",
              "      <th>4</th>\n",
              "      <td>0.0</td>\n",
              "      <td>1.0</td>\n",
              "      <td>1.0</td>\n",
              "      <td>1.0</td>\n",
              "      <td>0.0</td>\n",
              "      <td>0.0</td>\n",
              "      <td>0.0</td>\n",
              "      <td>0.0</td>\n",
              "      <td>0.0</td>\n",
              "      <td>1.0</td>\n",
              "    </tr>\n",
              "  </tbody>\n",
              "</table>\n",
              "</div>\n",
              "    <div class=\"colab-df-buttons\">\n",
              "\n",
              "  <div class=\"colab-df-container\">\n",
              "    <button class=\"colab-df-convert\" onclick=\"convertToInteractive('df-09436c62-0885-4eaa-9eed-9314fb146558')\"\n",
              "            title=\"Convert this dataframe to an interactive table.\"\n",
              "            style=\"display:none;\">\n",
              "\n",
              "  <svg xmlns=\"http://www.w3.org/2000/svg\" height=\"24px\" viewBox=\"0 -960 960 960\">\n",
              "    <path d=\"M120-120v-720h720v720H120Zm60-500h600v-160H180v160Zm220 220h160v-160H400v160Zm0 220h160v-160H400v160ZM180-400h160v-160H180v160Zm440 0h160v-160H620v160ZM180-180h160v-160H180v160Zm440 0h160v-160H620v160Z\"/>\n",
              "  </svg>\n",
              "    </button>\n",
              "\n",
              "  <style>\n",
              "    .colab-df-container {\n",
              "      display:flex;\n",
              "      gap: 12px;\n",
              "    }\n",
              "\n",
              "    .colab-df-convert {\n",
              "      background-color: #E8F0FE;\n",
              "      border: none;\n",
              "      border-radius: 50%;\n",
              "      cursor: pointer;\n",
              "      display: none;\n",
              "      fill: #1967D2;\n",
              "      height: 32px;\n",
              "      padding: 0 0 0 0;\n",
              "      width: 32px;\n",
              "    }\n",
              "\n",
              "    .colab-df-convert:hover {\n",
              "      background-color: #E2EBFA;\n",
              "      box-shadow: 0px 1px 2px rgba(60, 64, 67, 0.3), 0px 1px 3px 1px rgba(60, 64, 67, 0.15);\n",
              "      fill: #174EA6;\n",
              "    }\n",
              "\n",
              "    .colab-df-buttons div {\n",
              "      margin-bottom: 4px;\n",
              "    }\n",
              "\n",
              "    [theme=dark] .colab-df-convert {\n",
              "      background-color: #3B4455;\n",
              "      fill: #D2E3FC;\n",
              "    }\n",
              "\n",
              "    [theme=dark] .colab-df-convert:hover {\n",
              "      background-color: #434B5C;\n",
              "      box-shadow: 0px 1px 3px 1px rgba(0, 0, 0, 0.15);\n",
              "      filter: drop-shadow(0px 1px 2px rgba(0, 0, 0, 0.3));\n",
              "      fill: #FFFFFF;\n",
              "    }\n",
              "  </style>\n",
              "\n",
              "    <script>\n",
              "      const buttonEl =\n",
              "        document.querySelector('#df-09436c62-0885-4eaa-9eed-9314fb146558 button.colab-df-convert');\n",
              "      buttonEl.style.display =\n",
              "        google.colab.kernel.accessAllowed ? 'block' : 'none';\n",
              "\n",
              "      async function convertToInteractive(key) {\n",
              "        const element = document.querySelector('#df-09436c62-0885-4eaa-9eed-9314fb146558');\n",
              "        const dataTable =\n",
              "          await google.colab.kernel.invokeFunction('convertToInteractive',\n",
              "                                                    [key], {});\n",
              "        if (!dataTable) return;\n",
              "\n",
              "        const docLinkHtml = 'Like what you see? Visit the ' +\n",
              "          '<a target=\"_blank\" href=https://colab.research.google.com/notebooks/data_table.ipynb>data table notebook</a>'\n",
              "          + ' to learn more about interactive tables.';\n",
              "        element.innerHTML = '';\n",
              "        dataTable['output_type'] = 'display_data';\n",
              "        await google.colab.output.renderOutput(dataTable, element);\n",
              "        const docLink = document.createElement('div');\n",
              "        docLink.innerHTML = docLinkHtml;\n",
              "        element.appendChild(docLink);\n",
              "      }\n",
              "    </script>\n",
              "  </div>\n",
              "\n",
              "\n",
              "<div id=\"df-eb3fea7b-1925-4ef5-89b9-dafe7753e115\">\n",
              "  <button class=\"colab-df-quickchart\" onclick=\"quickchart('df-eb3fea7b-1925-4ef5-89b9-dafe7753e115')\"\n",
              "            title=\"Suggest charts\"\n",
              "            style=\"display:none;\">\n",
              "\n",
              "<svg xmlns=\"http://www.w3.org/2000/svg\" height=\"24px\"viewBox=\"0 0 24 24\"\n",
              "     width=\"24px\">\n",
              "    <g>\n",
              "        <path d=\"M19 3H5c-1.1 0-2 .9-2 2v14c0 1.1.9 2 2 2h14c1.1 0 2-.9 2-2V5c0-1.1-.9-2-2-2zM9 17H7v-7h2v7zm4 0h-2V7h2v10zm4 0h-2v-4h2v4z\"/>\n",
              "    </g>\n",
              "</svg>\n",
              "  </button>\n",
              "\n",
              "<style>\n",
              "  .colab-df-quickchart {\n",
              "      --bg-color: #E8F0FE;\n",
              "      --fill-color: #1967D2;\n",
              "      --hover-bg-color: #E2EBFA;\n",
              "      --hover-fill-color: #174EA6;\n",
              "      --disabled-fill-color: #AAA;\n",
              "      --disabled-bg-color: #DDD;\n",
              "  }\n",
              "\n",
              "  [theme=dark] .colab-df-quickchart {\n",
              "      --bg-color: #3B4455;\n",
              "      --fill-color: #D2E3FC;\n",
              "      --hover-bg-color: #434B5C;\n",
              "      --hover-fill-color: #FFFFFF;\n",
              "      --disabled-bg-color: #3B4455;\n",
              "      --disabled-fill-color: #666;\n",
              "  }\n",
              "\n",
              "  .colab-df-quickchart {\n",
              "    background-color: var(--bg-color);\n",
              "    border: none;\n",
              "    border-radius: 50%;\n",
              "    cursor: pointer;\n",
              "    display: none;\n",
              "    fill: var(--fill-color);\n",
              "    height: 32px;\n",
              "    padding: 0;\n",
              "    width: 32px;\n",
              "  }\n",
              "\n",
              "  .colab-df-quickchart:hover {\n",
              "    background-color: var(--hover-bg-color);\n",
              "    box-shadow: 0 1px 2px rgba(60, 64, 67, 0.3), 0 1px 3px 1px rgba(60, 64, 67, 0.15);\n",
              "    fill: var(--button-hover-fill-color);\n",
              "  }\n",
              "\n",
              "  .colab-df-quickchart-complete:disabled,\n",
              "  .colab-df-quickchart-complete:disabled:hover {\n",
              "    background-color: var(--disabled-bg-color);\n",
              "    fill: var(--disabled-fill-color);\n",
              "    box-shadow: none;\n",
              "  }\n",
              "\n",
              "  .colab-df-spinner {\n",
              "    border: 2px solid var(--fill-color);\n",
              "    border-color: transparent;\n",
              "    border-bottom-color: var(--fill-color);\n",
              "    animation:\n",
              "      spin 1s steps(1) infinite;\n",
              "  }\n",
              "\n",
              "  @keyframes spin {\n",
              "    0% {\n",
              "      border-color: transparent;\n",
              "      border-bottom-color: var(--fill-color);\n",
              "      border-left-color: var(--fill-color);\n",
              "    }\n",
              "    20% {\n",
              "      border-color: transparent;\n",
              "      border-left-color: var(--fill-color);\n",
              "      border-top-color: var(--fill-color);\n",
              "    }\n",
              "    30% {\n",
              "      border-color: transparent;\n",
              "      border-left-color: var(--fill-color);\n",
              "      border-top-color: var(--fill-color);\n",
              "      border-right-color: var(--fill-color);\n",
              "    }\n",
              "    40% {\n",
              "      border-color: transparent;\n",
              "      border-right-color: var(--fill-color);\n",
              "      border-top-color: var(--fill-color);\n",
              "    }\n",
              "    60% {\n",
              "      border-color: transparent;\n",
              "      border-right-color: var(--fill-color);\n",
              "    }\n",
              "    80% {\n",
              "      border-color: transparent;\n",
              "      border-right-color: var(--fill-color);\n",
              "      border-bottom-color: var(--fill-color);\n",
              "    }\n",
              "    90% {\n",
              "      border-color: transparent;\n",
              "      border-bottom-color: var(--fill-color);\n",
              "    }\n",
              "  }\n",
              "</style>\n",
              "\n",
              "  <script>\n",
              "    async function quickchart(key) {\n",
              "      const quickchartButtonEl =\n",
              "        document.querySelector('#' + key + ' button');\n",
              "      quickchartButtonEl.disabled = true;  // To prevent multiple clicks.\n",
              "      quickchartButtonEl.classList.add('colab-df-spinner');\n",
              "      try {\n",
              "        const charts = await google.colab.kernel.invokeFunction(\n",
              "            'suggestCharts', [key], {});\n",
              "      } catch (error) {\n",
              "        console.error('Error during call to suggestCharts:', error);\n",
              "      }\n",
              "      quickchartButtonEl.classList.remove('colab-df-spinner');\n",
              "      quickchartButtonEl.classList.add('colab-df-quickchart-complete');\n",
              "    }\n",
              "    (() => {\n",
              "      let quickchartButtonEl =\n",
              "        document.querySelector('#df-eb3fea7b-1925-4ef5-89b9-dafe7753e115 button');\n",
              "      quickchartButtonEl.style.display =\n",
              "        google.colab.kernel.accessAllowed ? 'block' : 'none';\n",
              "    })();\n",
              "  </script>\n",
              "</div>\n",
              "\n",
              "    </div>\n",
              "  </div>\n"
            ],
            "application/vnd.google.colaboratory.intrinsic+json": {
              "type": "dataframe",
              "variable_name": "df_rewards",
              "summary": "{\n  \"name\": \"df_rewards\",\n  \"rows\": 100000,\n  \"fields\": [\n    {\n      \"column\": \"Arm_1\",\n      \"properties\": {\n        \"dtype\": \"number\",\n        \"std\": 0.49426935270368283,\n        \"min\": 0.0,\n        \"max\": 1.0,\n        \"num_unique_values\": 2,\n        \"samples\": [\n          1.0,\n          0.0\n        ],\n        \"semantic_type\": \"\",\n        \"description\": \"\"\n      }\n    },\n    {\n      \"column\": \"Arm_2\",\n      \"properties\": {\n        \"dtype\": \"number\",\n        \"std\": 0.4215638475493994,\n        \"min\": 0.0,\n        \"max\": 1.0,\n        \"num_unique_values\": 2,\n        \"samples\": [\n          0.0,\n          1.0\n        ],\n        \"semantic_type\": \"\",\n        \"description\": \"\"\n      }\n    },\n    {\n      \"column\": \"Arm_3\",\n      \"properties\": {\n        \"dtype\": \"number\",\n        \"std\": 0.4805036065807781,\n        \"min\": 0.0,\n        \"max\": 1.0,\n        \"num_unique_values\": 2,\n        \"samples\": [\n          0.0,\n          1.0\n        ],\n        \"semantic_type\": \"\",\n        \"description\": \"\"\n      }\n    },\n    {\n      \"column\": \"Arm_4\",\n      \"properties\": {\n        \"dtype\": \"number\",\n        \"std\": 0.49629329934094235,\n        \"min\": 0.0,\n        \"max\": 1.0,\n        \"num_unique_values\": 2,\n        \"samples\": [\n          1.0,\n          0.0\n        ],\n        \"semantic_type\": \"\",\n        \"description\": \"\"\n      }\n    },\n    {\n      \"column\": \"Arm_5\",\n      \"properties\": {\n        \"dtype\": \"number\",\n        \"std\": 0.45549013360652274,\n        \"min\": 0.0,\n        \"max\": 1.0,\n        \"num_unique_values\": 2,\n        \"samples\": [\n          0.0,\n          1.0\n        ],\n        \"semantic_type\": \"\",\n        \"description\": \"\"\n      }\n    },\n    {\n      \"column\": \"Arm_6\",\n      \"properties\": {\n        \"dtype\": \"number\",\n        \"std\": 0.4550815686140949,\n        \"min\": 0.0,\n        \"max\": 1.0,\n        \"num_unique_values\": 2,\n        \"samples\": [\n          0.0,\n          1.0\n        ],\n        \"semantic_type\": \"\",\n        \"description\": \"\"\n      }\n    },\n    {\n      \"column\": \"Arm_7\",\n      \"properties\": {\n        \"dtype\": \"number\",\n        \"std\": 0.4241446051606339,\n        \"min\": 0.0,\n        \"max\": 1.0,\n        \"num_unique_values\": 2,\n        \"samples\": [\n          1.0,\n          0.0\n        ],\n        \"semantic_type\": \"\",\n        \"description\": \"\"\n      }\n    },\n    {\n      \"column\": \"Arm_8\",\n      \"properties\": {\n        \"dtype\": \"number\",\n        \"std\": 0.44913332575920684,\n        \"min\": 0.0,\n        \"max\": 1.0,\n        \"num_unique_values\": 2,\n        \"samples\": [\n          0.0,\n          1.0\n        ],\n        \"semantic_type\": \"\",\n        \"description\": \"\"\n      }\n    },\n    {\n      \"column\": \"Arm_9\",\n      \"properties\": {\n        \"dtype\": \"number\",\n        \"std\": 0.49688918773569796,\n        \"min\": 0.0,\n        \"max\": 1.0,\n        \"num_unique_values\": 2,\n        \"samples\": [\n          0.0,\n          1.0\n        ],\n        \"semantic_type\": \"\",\n        \"description\": \"\"\n      }\n    },\n    {\n      \"column\": \"Arm_10\",\n      \"properties\": {\n        \"dtype\": \"number\",\n        \"std\": 0.4838920659768538,\n        \"min\": 0.0,\n        \"max\": 1.0,\n        \"num_unique_values\": 2,\n        \"samples\": [\n          0.0,\n          1.0\n        ],\n        \"semantic_type\": \"\",\n        \"description\": \"\"\n      }\n    }\n  ]\n}"
            }
          },
          "metadata": {},
          "execution_count": 2
        }
      ]
    },
    {
      "cell_type": "markdown",
      "source": [
        "### Explanation:\n",
        "* num_arms: This sets the number of different actions (recommendations) the bandit can take.\n",
        "* arm_probabilities: These are the reward probabilities for each arm. We simulate a range between 0.2 and 0.8 to create a balanced challenge.\n",
        "* rewards: Each round simulates whether a user \"clicked\" or \"engaged\" with the recommendation (binary 1 or 0).\n",
        "* Bernoulli Distribution: Reward is binary (1 or 0), indicating success or failure for each arm, based on its underlying reward probability."
      ],
      "metadata": {
        "id": "2f9ht9ldPTo_"
      }
    },
    {
      "cell_type": "code",
      "source": [],
      "metadata": {
        "id": "UqcfTAs_IWbJ"
      },
      "execution_count": 3,
      "outputs": []
    },
    {
      "cell_type": "markdown",
      "source": [
        "### 2. Simulation of Data for Contextual Bandit Algorithms (LinUCB, Neural Bandits)"
      ],
      "metadata": {
        "id": "U6IiMfLsNMw8"
      }
    },
    {
      "cell_type": "code",
      "source": [
        "\n",
        "#In contextual bandits, the reward for each arm depends on the context (user features).\n",
        "#We will simulate a dataset where each user has a set of features, and each arm’s reward is influenced by those features.\n",
        "\n",
        "#Simulated Data -\n",
        "#User Features: Simulate a matrix of features (e.g., user age, browsing history, etc.).\n",
        "#Arm Reward Function: Each arm will have a linear relationship with the user features.\n",
        "\n",
        "# Simulate user data for contextual bandits\n",
        "num_users = 100000  # Number of user interactions (rounds)\n",
        "num_features = 5   # Number of user features (e.g., age, income, behavior)\n",
        "\n",
        "# Generate random user features matrix (each feature between 0 and 1)\n",
        "user_features = np.random.uniform(0, 1, size=(num_users, num_features))\n",
        "\n",
        "# Simulate arm-specific weights (linear relationship between features and reward)\n",
        "arm_weights = np.random.uniform(0, 1, size=(num_arms, num_features))\n",
        "\n",
        "# Calculate reward probabilities for each arm based on user features\n",
        "contextual_rewards = np.dot(user_features, arm_weights.T)\n",
        "\n",
        "# Apply a logistic function to convert to probabilities between 0 and 1\n",
        "contextual_rewards = 1 / (1 + np.exp(-contextual_rewards))\n",
        "\n",
        "# Generate rewards for each arm (Bernoulli distribution based on contextual probabilities)\n",
        "contextual_rewards_binary = np.random.binomial(1, contextual_rewards)\n",
        "\n",
        "# Create a DataFrame for contextual rewards\n",
        "df_contextual_rewards = pd.DataFrame(contextual_rewards_binary, columns=[f'Arm_{i+1}' for i in range(num_arms)])\n",
        "df_contextual_rewards.head()\n",
        "\n"
      ],
      "metadata": {
        "colab": {
          "base_uri": "https://localhost:8080/",
          "height": 204
        },
        "id": "_Poyino75bLI",
        "outputId": "03dee2ed-fb8b-45cf-9adc-0738452344e6"
      },
      "execution_count": 4,
      "outputs": [
        {
          "output_type": "execute_result",
          "data": {
            "text/plain": [
              "   Arm_1  Arm_2  Arm_3  Arm_4  Arm_5  Arm_6  Arm_7  Arm_8  Arm_9  Arm_10\n",
              "0      0      0      0      1      1      1      1      1      1       1\n",
              "1      0      0      1      0      1      0      1      1      1       1\n",
              "2      0      1      1      1      1      1      1      1      1       0\n",
              "3      0      1      1      1      1      1      1      1      1       1\n",
              "4      0      0      1      1      1      1      1      1      1       0"
            ],
            "text/html": [
              "\n",
              "  <div id=\"df-3c2ffaee-fcc1-45cf-a9e4-bb89f301bf17\" class=\"colab-df-container\">\n",
              "    <div>\n",
              "<style scoped>\n",
              "    .dataframe tbody tr th:only-of-type {\n",
              "        vertical-align: middle;\n",
              "    }\n",
              "\n",
              "    .dataframe tbody tr th {\n",
              "        vertical-align: top;\n",
              "    }\n",
              "\n",
              "    .dataframe thead th {\n",
              "        text-align: right;\n",
              "    }\n",
              "</style>\n",
              "<table border=\"1\" class=\"dataframe\">\n",
              "  <thead>\n",
              "    <tr style=\"text-align: right;\">\n",
              "      <th></th>\n",
              "      <th>Arm_1</th>\n",
              "      <th>Arm_2</th>\n",
              "      <th>Arm_3</th>\n",
              "      <th>Arm_4</th>\n",
              "      <th>Arm_5</th>\n",
              "      <th>Arm_6</th>\n",
              "      <th>Arm_7</th>\n",
              "      <th>Arm_8</th>\n",
              "      <th>Arm_9</th>\n",
              "      <th>Arm_10</th>\n",
              "    </tr>\n",
              "  </thead>\n",
              "  <tbody>\n",
              "    <tr>\n",
              "      <th>0</th>\n",
              "      <td>0</td>\n",
              "      <td>0</td>\n",
              "      <td>0</td>\n",
              "      <td>1</td>\n",
              "      <td>1</td>\n",
              "      <td>1</td>\n",
              "      <td>1</td>\n",
              "      <td>1</td>\n",
              "      <td>1</td>\n",
              "      <td>1</td>\n",
              "    </tr>\n",
              "    <tr>\n",
              "      <th>1</th>\n",
              "      <td>0</td>\n",
              "      <td>0</td>\n",
              "      <td>1</td>\n",
              "      <td>0</td>\n",
              "      <td>1</td>\n",
              "      <td>0</td>\n",
              "      <td>1</td>\n",
              "      <td>1</td>\n",
              "      <td>1</td>\n",
              "      <td>1</td>\n",
              "    </tr>\n",
              "    <tr>\n",
              "      <th>2</th>\n",
              "      <td>0</td>\n",
              "      <td>1</td>\n",
              "      <td>1</td>\n",
              "      <td>1</td>\n",
              "      <td>1</td>\n",
              "      <td>1</td>\n",
              "      <td>1</td>\n",
              "      <td>1</td>\n",
              "      <td>1</td>\n",
              "      <td>0</td>\n",
              "    </tr>\n",
              "    <tr>\n",
              "      <th>3</th>\n",
              "      <td>0</td>\n",
              "      <td>1</td>\n",
              "      <td>1</td>\n",
              "      <td>1</td>\n",
              "      <td>1</td>\n",
              "      <td>1</td>\n",
              "      <td>1</td>\n",
              "      <td>1</td>\n",
              "      <td>1</td>\n",
              "      <td>1</td>\n",
              "    </tr>\n",
              "    <tr>\n",
              "      <th>4</th>\n",
              "      <td>0</td>\n",
              "      <td>0</td>\n",
              "      <td>1</td>\n",
              "      <td>1</td>\n",
              "      <td>1</td>\n",
              "      <td>1</td>\n",
              "      <td>1</td>\n",
              "      <td>1</td>\n",
              "      <td>1</td>\n",
              "      <td>0</td>\n",
              "    </tr>\n",
              "  </tbody>\n",
              "</table>\n",
              "</div>\n",
              "    <div class=\"colab-df-buttons\">\n",
              "\n",
              "  <div class=\"colab-df-container\">\n",
              "    <button class=\"colab-df-convert\" onclick=\"convertToInteractive('df-3c2ffaee-fcc1-45cf-a9e4-bb89f301bf17')\"\n",
              "            title=\"Convert this dataframe to an interactive table.\"\n",
              "            style=\"display:none;\">\n",
              "\n",
              "  <svg xmlns=\"http://www.w3.org/2000/svg\" height=\"24px\" viewBox=\"0 -960 960 960\">\n",
              "    <path d=\"M120-120v-720h720v720H120Zm60-500h600v-160H180v160Zm220 220h160v-160H400v160Zm0 220h160v-160H400v160ZM180-400h160v-160H180v160Zm440 0h160v-160H620v160ZM180-180h160v-160H180v160Zm440 0h160v-160H620v160Z\"/>\n",
              "  </svg>\n",
              "    </button>\n",
              "\n",
              "  <style>\n",
              "    .colab-df-container {\n",
              "      display:flex;\n",
              "      gap: 12px;\n",
              "    }\n",
              "\n",
              "    .colab-df-convert {\n",
              "      background-color: #E8F0FE;\n",
              "      border: none;\n",
              "      border-radius: 50%;\n",
              "      cursor: pointer;\n",
              "      display: none;\n",
              "      fill: #1967D2;\n",
              "      height: 32px;\n",
              "      padding: 0 0 0 0;\n",
              "      width: 32px;\n",
              "    }\n",
              "\n",
              "    .colab-df-convert:hover {\n",
              "      background-color: #E2EBFA;\n",
              "      box-shadow: 0px 1px 2px rgba(60, 64, 67, 0.3), 0px 1px 3px 1px rgba(60, 64, 67, 0.15);\n",
              "      fill: #174EA6;\n",
              "    }\n",
              "\n",
              "    .colab-df-buttons div {\n",
              "      margin-bottom: 4px;\n",
              "    }\n",
              "\n",
              "    [theme=dark] .colab-df-convert {\n",
              "      background-color: #3B4455;\n",
              "      fill: #D2E3FC;\n",
              "    }\n",
              "\n",
              "    [theme=dark] .colab-df-convert:hover {\n",
              "      background-color: #434B5C;\n",
              "      box-shadow: 0px 1px 3px 1px rgba(0, 0, 0, 0.15);\n",
              "      filter: drop-shadow(0px 1px 2px rgba(0, 0, 0, 0.3));\n",
              "      fill: #FFFFFF;\n",
              "    }\n",
              "  </style>\n",
              "\n",
              "    <script>\n",
              "      const buttonEl =\n",
              "        document.querySelector('#df-3c2ffaee-fcc1-45cf-a9e4-bb89f301bf17 button.colab-df-convert');\n",
              "      buttonEl.style.display =\n",
              "        google.colab.kernel.accessAllowed ? 'block' : 'none';\n",
              "\n",
              "      async function convertToInteractive(key) {\n",
              "        const element = document.querySelector('#df-3c2ffaee-fcc1-45cf-a9e4-bb89f301bf17');\n",
              "        const dataTable =\n",
              "          await google.colab.kernel.invokeFunction('convertToInteractive',\n",
              "                                                    [key], {});\n",
              "        if (!dataTable) return;\n",
              "\n",
              "        const docLinkHtml = 'Like what you see? Visit the ' +\n",
              "          '<a target=\"_blank\" href=https://colab.research.google.com/notebooks/data_table.ipynb>data table notebook</a>'\n",
              "          + ' to learn more about interactive tables.';\n",
              "        element.innerHTML = '';\n",
              "        dataTable['output_type'] = 'display_data';\n",
              "        await google.colab.output.renderOutput(dataTable, element);\n",
              "        const docLink = document.createElement('div');\n",
              "        docLink.innerHTML = docLinkHtml;\n",
              "        element.appendChild(docLink);\n",
              "      }\n",
              "    </script>\n",
              "  </div>\n",
              "\n",
              "\n",
              "<div id=\"df-d9fac0b0-b7bf-4695-899e-6ed6b63c18c8\">\n",
              "  <button class=\"colab-df-quickchart\" onclick=\"quickchart('df-d9fac0b0-b7bf-4695-899e-6ed6b63c18c8')\"\n",
              "            title=\"Suggest charts\"\n",
              "            style=\"display:none;\">\n",
              "\n",
              "<svg xmlns=\"http://www.w3.org/2000/svg\" height=\"24px\"viewBox=\"0 0 24 24\"\n",
              "     width=\"24px\">\n",
              "    <g>\n",
              "        <path d=\"M19 3H5c-1.1 0-2 .9-2 2v14c0 1.1.9 2 2 2h14c1.1 0 2-.9 2-2V5c0-1.1-.9-2-2-2zM9 17H7v-7h2v7zm4 0h-2V7h2v10zm4 0h-2v-4h2v4z\"/>\n",
              "    </g>\n",
              "</svg>\n",
              "  </button>\n",
              "\n",
              "<style>\n",
              "  .colab-df-quickchart {\n",
              "      --bg-color: #E8F0FE;\n",
              "      --fill-color: #1967D2;\n",
              "      --hover-bg-color: #E2EBFA;\n",
              "      --hover-fill-color: #174EA6;\n",
              "      --disabled-fill-color: #AAA;\n",
              "      --disabled-bg-color: #DDD;\n",
              "  }\n",
              "\n",
              "  [theme=dark] .colab-df-quickchart {\n",
              "      --bg-color: #3B4455;\n",
              "      --fill-color: #D2E3FC;\n",
              "      --hover-bg-color: #434B5C;\n",
              "      --hover-fill-color: #FFFFFF;\n",
              "      --disabled-bg-color: #3B4455;\n",
              "      --disabled-fill-color: #666;\n",
              "  }\n",
              "\n",
              "  .colab-df-quickchart {\n",
              "    background-color: var(--bg-color);\n",
              "    border: none;\n",
              "    border-radius: 50%;\n",
              "    cursor: pointer;\n",
              "    display: none;\n",
              "    fill: var(--fill-color);\n",
              "    height: 32px;\n",
              "    padding: 0;\n",
              "    width: 32px;\n",
              "  }\n",
              "\n",
              "  .colab-df-quickchart:hover {\n",
              "    background-color: var(--hover-bg-color);\n",
              "    box-shadow: 0 1px 2px rgba(60, 64, 67, 0.3), 0 1px 3px 1px rgba(60, 64, 67, 0.15);\n",
              "    fill: var(--button-hover-fill-color);\n",
              "  }\n",
              "\n",
              "  .colab-df-quickchart-complete:disabled,\n",
              "  .colab-df-quickchart-complete:disabled:hover {\n",
              "    background-color: var(--disabled-bg-color);\n",
              "    fill: var(--disabled-fill-color);\n",
              "    box-shadow: none;\n",
              "  }\n",
              "\n",
              "  .colab-df-spinner {\n",
              "    border: 2px solid var(--fill-color);\n",
              "    border-color: transparent;\n",
              "    border-bottom-color: var(--fill-color);\n",
              "    animation:\n",
              "      spin 1s steps(1) infinite;\n",
              "  }\n",
              "\n",
              "  @keyframes spin {\n",
              "    0% {\n",
              "      border-color: transparent;\n",
              "      border-bottom-color: var(--fill-color);\n",
              "      border-left-color: var(--fill-color);\n",
              "    }\n",
              "    20% {\n",
              "      border-color: transparent;\n",
              "      border-left-color: var(--fill-color);\n",
              "      border-top-color: var(--fill-color);\n",
              "    }\n",
              "    30% {\n",
              "      border-color: transparent;\n",
              "      border-left-color: var(--fill-color);\n",
              "      border-top-color: var(--fill-color);\n",
              "      border-right-color: var(--fill-color);\n",
              "    }\n",
              "    40% {\n",
              "      border-color: transparent;\n",
              "      border-right-color: var(--fill-color);\n",
              "      border-top-color: var(--fill-color);\n",
              "    }\n",
              "    60% {\n",
              "      border-color: transparent;\n",
              "      border-right-color: var(--fill-color);\n",
              "    }\n",
              "    80% {\n",
              "      border-color: transparent;\n",
              "      border-right-color: var(--fill-color);\n",
              "      border-bottom-color: var(--fill-color);\n",
              "    }\n",
              "    90% {\n",
              "      border-color: transparent;\n",
              "      border-bottom-color: var(--fill-color);\n",
              "    }\n",
              "  }\n",
              "</style>\n",
              "\n",
              "  <script>\n",
              "    async function quickchart(key) {\n",
              "      const quickchartButtonEl =\n",
              "        document.querySelector('#' + key + ' button');\n",
              "      quickchartButtonEl.disabled = true;  // To prevent multiple clicks.\n",
              "      quickchartButtonEl.classList.add('colab-df-spinner');\n",
              "      try {\n",
              "        const charts = await google.colab.kernel.invokeFunction(\n",
              "            'suggestCharts', [key], {});\n",
              "      } catch (error) {\n",
              "        console.error('Error during call to suggestCharts:', error);\n",
              "      }\n",
              "      quickchartButtonEl.classList.remove('colab-df-spinner');\n",
              "      quickchartButtonEl.classList.add('colab-df-quickchart-complete');\n",
              "    }\n",
              "    (() => {\n",
              "      let quickchartButtonEl =\n",
              "        document.querySelector('#df-d9fac0b0-b7bf-4695-899e-6ed6b63c18c8 button');\n",
              "      quickchartButtonEl.style.display =\n",
              "        google.colab.kernel.accessAllowed ? 'block' : 'none';\n",
              "    })();\n",
              "  </script>\n",
              "</div>\n",
              "\n",
              "    </div>\n",
              "  </div>\n"
            ],
            "application/vnd.google.colaboratory.intrinsic+json": {
              "type": "dataframe",
              "variable_name": "df_contextual_rewards",
              "summary": "{\n  \"name\": \"df_contextual_rewards\",\n  \"rows\": 100000,\n  \"fields\": [\n    {\n      \"column\": \"Arm_1\",\n      \"properties\": {\n        \"dtype\": \"number\",\n        \"std\": 0,\n        \"min\": 0,\n        \"max\": 1,\n        \"num_unique_values\": 2,\n        \"samples\": [\n          1,\n          0\n        ],\n        \"semantic_type\": \"\",\n        \"description\": \"\"\n      }\n    },\n    {\n      \"column\": \"Arm_2\",\n      \"properties\": {\n        \"dtype\": \"number\",\n        \"std\": 0,\n        \"min\": 0,\n        \"max\": 1,\n        \"num_unique_values\": 2,\n        \"samples\": [\n          1,\n          0\n        ],\n        \"semantic_type\": \"\",\n        \"description\": \"\"\n      }\n    },\n    {\n      \"column\": \"Arm_3\",\n      \"properties\": {\n        \"dtype\": \"number\",\n        \"std\": 0,\n        \"min\": 0,\n        \"max\": 1,\n        \"num_unique_values\": 2,\n        \"samples\": [\n          1,\n          0\n        ],\n        \"semantic_type\": \"\",\n        \"description\": \"\"\n      }\n    },\n    {\n      \"column\": \"Arm_4\",\n      \"properties\": {\n        \"dtype\": \"number\",\n        \"std\": 0,\n        \"min\": 0,\n        \"max\": 1,\n        \"num_unique_values\": 2,\n        \"samples\": [\n          0,\n          1\n        ],\n        \"semantic_type\": \"\",\n        \"description\": \"\"\n      }\n    },\n    {\n      \"column\": \"Arm_5\",\n      \"properties\": {\n        \"dtype\": \"number\",\n        \"std\": 0,\n        \"min\": 0,\n        \"max\": 1,\n        \"num_unique_values\": 2,\n        \"samples\": [\n          0,\n          1\n        ],\n        \"semantic_type\": \"\",\n        \"description\": \"\"\n      }\n    },\n    {\n      \"column\": \"Arm_6\",\n      \"properties\": {\n        \"dtype\": \"number\",\n        \"std\": 0,\n        \"min\": 0,\n        \"max\": 1,\n        \"num_unique_values\": 2,\n        \"samples\": [\n          0,\n          1\n        ],\n        \"semantic_type\": \"\",\n        \"description\": \"\"\n      }\n    },\n    {\n      \"column\": \"Arm_7\",\n      \"properties\": {\n        \"dtype\": \"number\",\n        \"std\": 0,\n        \"min\": 0,\n        \"max\": 1,\n        \"num_unique_values\": 2,\n        \"samples\": [\n          0,\n          1\n        ],\n        \"semantic_type\": \"\",\n        \"description\": \"\"\n      }\n    },\n    {\n      \"column\": \"Arm_8\",\n      \"properties\": {\n        \"dtype\": \"number\",\n        \"std\": 0,\n        \"min\": 0,\n        \"max\": 1,\n        \"num_unique_values\": 2,\n        \"samples\": [\n          0,\n          1\n        ],\n        \"semantic_type\": \"\",\n        \"description\": \"\"\n      }\n    },\n    {\n      \"column\": \"Arm_9\",\n      \"properties\": {\n        \"dtype\": \"number\",\n        \"std\": 0,\n        \"min\": 0,\n        \"max\": 1,\n        \"num_unique_values\": 2,\n        \"samples\": [\n          0,\n          1\n        ],\n        \"semantic_type\": \"\",\n        \"description\": \"\"\n      }\n    },\n    {\n      \"column\": \"Arm_10\",\n      \"properties\": {\n        \"dtype\": \"number\",\n        \"std\": 0,\n        \"min\": 0,\n        \"max\": 1,\n        \"num_unique_values\": 2,\n        \"samples\": [\n          0,\n          1\n        ],\n        \"semantic_type\": \"\",\n        \"description\": \"\"\n      }\n    }\n  ]\n}"
            }
          },
          "metadata": {},
          "execution_count": 4
        }
      ]
    },
    {
      "cell_type": "markdown",
      "source": [
        "### Explanation:\n",
        "* user_features: This simulates user-specific context (e.g., age, gender, location), with each user having 5 random features.\n",
        "* arm_weights: Each arm has a unique set of weights that determines how it interacts with the user features to produce a reward.\n",
        "* contextual_rewards: This computes the reward probabilities for each arm using a linear model followed by a logistic function to normalize the output to a probability.\n",
        "* contextual_rewards_binary: The actual rewards are then sampled from a Bernoulli distribution, simulating whether the user engages with the recommendation based on the context."
      ],
      "metadata": {
        "id": "P342xBSXO0IG"
      }
    },
    {
      "cell_type": "code",
      "source": [],
      "metadata": {
        "id": "ZVMPRfpz5bP1"
      },
      "execution_count": 5,
      "outputs": []
    },
    {
      "cell_type": "markdown",
      "source": [
        "### 3. Data for Adversarial Settings (EXP3 Algorithm)"
      ],
      "metadata": {
        "id": "VPRq_68fNSU5"
      }
    },
    {
      "cell_type": "code",
      "source": [
        "#In adversarial bandits like EXP3, rewards are not drawn from a fixed distribution. Instead, the environment may change over time,\n",
        "#making it more challenging for the algorithm to balance exploration and exploitation.\n",
        "#We can simulate this by randomly changing the reward probabilities of arms over time.\n",
        "\n",
        "# Simulate dynamic (adversarial) rewards for the EXP3 algorithm\n",
        "num_phases = 5  # Change the reward probabilities every few rounds\n",
        "rounds_per_phase = num_rounds // num_phases\n",
        "\n",
        "# Create empty array to hold rewards\n",
        "exp3_rewards = np.zeros((num_rounds, num_arms))\n",
        "\n",
        "# Simulate changing reward probabilities across phases\n",
        "for phase in range(num_phases):\n",
        "    # Each phase has a different reward probability for each arm\n",
        "    arm_probabilities_dynamic = np.random.uniform(0.1, 0.9, size=num_arms)\n",
        "\n",
        "    # Simulate rewards for this phase\n",
        "    start_idx = phase * rounds_per_phase\n",
        "    end_idx = (phase + 1) * rounds_per_phase\n",
        "\n",
        "    for i in range(num_arms):\n",
        "        exp3_rewards[start_idx:end_idx, i] = np.random.binomial(1, arm_probabilities_dynamic[i], size=rounds_per_phase)\n",
        "\n",
        "# Create a DataFrame for dynamic rewards\n",
        "df_exp3_rewards = pd.DataFrame(exp3_rewards, columns=[f'Arm_{i+1}' for i in range(num_arms)])\n",
        "df_exp3_rewards.head()\n"
      ],
      "metadata": {
        "colab": {
          "base_uri": "https://localhost:8080/",
          "height": 204
        },
        "id": "jnWneO_W5bSZ",
        "outputId": "60d1d975-2351-4419-e421-766dbff590f1"
      },
      "execution_count": 6,
      "outputs": [
        {
          "output_type": "execute_result",
          "data": {
            "text/plain": [
              "   Arm_1  Arm_2  Arm_3  Arm_4  Arm_5  Arm_6  Arm_7  Arm_8  Arm_9  Arm_10\n",
              "0    0.0    1.0    1.0    0.0    1.0    1.0    0.0    0.0    0.0     1.0\n",
              "1    0.0    1.0    0.0    0.0    1.0    0.0    1.0    0.0    0.0     0.0\n",
              "2    1.0    0.0    0.0    0.0    1.0    1.0    1.0    0.0    0.0     1.0\n",
              "3    1.0    1.0    0.0    0.0    1.0    1.0    0.0    0.0    1.0     0.0\n",
              "4    0.0    1.0    1.0    0.0    0.0    1.0    0.0    0.0    1.0     0.0"
            ],
            "text/html": [
              "\n",
              "  <div id=\"df-16965425-dcbc-4af9-8baa-65d8de6421ef\" class=\"colab-df-container\">\n",
              "    <div>\n",
              "<style scoped>\n",
              "    .dataframe tbody tr th:only-of-type {\n",
              "        vertical-align: middle;\n",
              "    }\n",
              "\n",
              "    .dataframe tbody tr th {\n",
              "        vertical-align: top;\n",
              "    }\n",
              "\n",
              "    .dataframe thead th {\n",
              "        text-align: right;\n",
              "    }\n",
              "</style>\n",
              "<table border=\"1\" class=\"dataframe\">\n",
              "  <thead>\n",
              "    <tr style=\"text-align: right;\">\n",
              "      <th></th>\n",
              "      <th>Arm_1</th>\n",
              "      <th>Arm_2</th>\n",
              "      <th>Arm_3</th>\n",
              "      <th>Arm_4</th>\n",
              "      <th>Arm_5</th>\n",
              "      <th>Arm_6</th>\n",
              "      <th>Arm_7</th>\n",
              "      <th>Arm_8</th>\n",
              "      <th>Arm_9</th>\n",
              "      <th>Arm_10</th>\n",
              "    </tr>\n",
              "  </thead>\n",
              "  <tbody>\n",
              "    <tr>\n",
              "      <th>0</th>\n",
              "      <td>0.0</td>\n",
              "      <td>1.0</td>\n",
              "      <td>1.0</td>\n",
              "      <td>0.0</td>\n",
              "      <td>1.0</td>\n",
              "      <td>1.0</td>\n",
              "      <td>0.0</td>\n",
              "      <td>0.0</td>\n",
              "      <td>0.0</td>\n",
              "      <td>1.0</td>\n",
              "    </tr>\n",
              "    <tr>\n",
              "      <th>1</th>\n",
              "      <td>0.0</td>\n",
              "      <td>1.0</td>\n",
              "      <td>0.0</td>\n",
              "      <td>0.0</td>\n",
              "      <td>1.0</td>\n",
              "      <td>0.0</td>\n",
              "      <td>1.0</td>\n",
              "      <td>0.0</td>\n",
              "      <td>0.0</td>\n",
              "      <td>0.0</td>\n",
              "    </tr>\n",
              "    <tr>\n",
              "      <th>2</th>\n",
              "      <td>1.0</td>\n",
              "      <td>0.0</td>\n",
              "      <td>0.0</td>\n",
              "      <td>0.0</td>\n",
              "      <td>1.0</td>\n",
              "      <td>1.0</td>\n",
              "      <td>1.0</td>\n",
              "      <td>0.0</td>\n",
              "      <td>0.0</td>\n",
              "      <td>1.0</td>\n",
              "    </tr>\n",
              "    <tr>\n",
              "      <th>3</th>\n",
              "      <td>1.0</td>\n",
              "      <td>1.0</td>\n",
              "      <td>0.0</td>\n",
              "      <td>0.0</td>\n",
              "      <td>1.0</td>\n",
              "      <td>1.0</td>\n",
              "      <td>0.0</td>\n",
              "      <td>0.0</td>\n",
              "      <td>1.0</td>\n",
              "      <td>0.0</td>\n",
              "    </tr>\n",
              "    <tr>\n",
              "      <th>4</th>\n",
              "      <td>0.0</td>\n",
              "      <td>1.0</td>\n",
              "      <td>1.0</td>\n",
              "      <td>0.0</td>\n",
              "      <td>0.0</td>\n",
              "      <td>1.0</td>\n",
              "      <td>0.0</td>\n",
              "      <td>0.0</td>\n",
              "      <td>1.0</td>\n",
              "      <td>0.0</td>\n",
              "    </tr>\n",
              "  </tbody>\n",
              "</table>\n",
              "</div>\n",
              "    <div class=\"colab-df-buttons\">\n",
              "\n",
              "  <div class=\"colab-df-container\">\n",
              "    <button class=\"colab-df-convert\" onclick=\"convertToInteractive('df-16965425-dcbc-4af9-8baa-65d8de6421ef')\"\n",
              "            title=\"Convert this dataframe to an interactive table.\"\n",
              "            style=\"display:none;\">\n",
              "\n",
              "  <svg xmlns=\"http://www.w3.org/2000/svg\" height=\"24px\" viewBox=\"0 -960 960 960\">\n",
              "    <path d=\"M120-120v-720h720v720H120Zm60-500h600v-160H180v160Zm220 220h160v-160H400v160Zm0 220h160v-160H400v160ZM180-400h160v-160H180v160Zm440 0h160v-160H620v160ZM180-180h160v-160H180v160Zm440 0h160v-160H620v160Z\"/>\n",
              "  </svg>\n",
              "    </button>\n",
              "\n",
              "  <style>\n",
              "    .colab-df-container {\n",
              "      display:flex;\n",
              "      gap: 12px;\n",
              "    }\n",
              "\n",
              "    .colab-df-convert {\n",
              "      background-color: #E8F0FE;\n",
              "      border: none;\n",
              "      border-radius: 50%;\n",
              "      cursor: pointer;\n",
              "      display: none;\n",
              "      fill: #1967D2;\n",
              "      height: 32px;\n",
              "      padding: 0 0 0 0;\n",
              "      width: 32px;\n",
              "    }\n",
              "\n",
              "    .colab-df-convert:hover {\n",
              "      background-color: #E2EBFA;\n",
              "      box-shadow: 0px 1px 2px rgba(60, 64, 67, 0.3), 0px 1px 3px 1px rgba(60, 64, 67, 0.15);\n",
              "      fill: #174EA6;\n",
              "    }\n",
              "\n",
              "    .colab-df-buttons div {\n",
              "      margin-bottom: 4px;\n",
              "    }\n",
              "\n",
              "    [theme=dark] .colab-df-convert {\n",
              "      background-color: #3B4455;\n",
              "      fill: #D2E3FC;\n",
              "    }\n",
              "\n",
              "    [theme=dark] .colab-df-convert:hover {\n",
              "      background-color: #434B5C;\n",
              "      box-shadow: 0px 1px 3px 1px rgba(0, 0, 0, 0.15);\n",
              "      filter: drop-shadow(0px 1px 2px rgba(0, 0, 0, 0.3));\n",
              "      fill: #FFFFFF;\n",
              "    }\n",
              "  </style>\n",
              "\n",
              "    <script>\n",
              "      const buttonEl =\n",
              "        document.querySelector('#df-16965425-dcbc-4af9-8baa-65d8de6421ef button.colab-df-convert');\n",
              "      buttonEl.style.display =\n",
              "        google.colab.kernel.accessAllowed ? 'block' : 'none';\n",
              "\n",
              "      async function convertToInteractive(key) {\n",
              "        const element = document.querySelector('#df-16965425-dcbc-4af9-8baa-65d8de6421ef');\n",
              "        const dataTable =\n",
              "          await google.colab.kernel.invokeFunction('convertToInteractive',\n",
              "                                                    [key], {});\n",
              "        if (!dataTable) return;\n",
              "\n",
              "        const docLinkHtml = 'Like what you see? Visit the ' +\n",
              "          '<a target=\"_blank\" href=https://colab.research.google.com/notebooks/data_table.ipynb>data table notebook</a>'\n",
              "          + ' to learn more about interactive tables.';\n",
              "        element.innerHTML = '';\n",
              "        dataTable['output_type'] = 'display_data';\n",
              "        await google.colab.output.renderOutput(dataTable, element);\n",
              "        const docLink = document.createElement('div');\n",
              "        docLink.innerHTML = docLinkHtml;\n",
              "        element.appendChild(docLink);\n",
              "      }\n",
              "    </script>\n",
              "  </div>\n",
              "\n",
              "\n",
              "<div id=\"df-ac60fa5e-620c-47cd-8aeb-a48d69cd97f9\">\n",
              "  <button class=\"colab-df-quickchart\" onclick=\"quickchart('df-ac60fa5e-620c-47cd-8aeb-a48d69cd97f9')\"\n",
              "            title=\"Suggest charts\"\n",
              "            style=\"display:none;\">\n",
              "\n",
              "<svg xmlns=\"http://www.w3.org/2000/svg\" height=\"24px\"viewBox=\"0 0 24 24\"\n",
              "     width=\"24px\">\n",
              "    <g>\n",
              "        <path d=\"M19 3H5c-1.1 0-2 .9-2 2v14c0 1.1.9 2 2 2h14c1.1 0 2-.9 2-2V5c0-1.1-.9-2-2-2zM9 17H7v-7h2v7zm4 0h-2V7h2v10zm4 0h-2v-4h2v4z\"/>\n",
              "    </g>\n",
              "</svg>\n",
              "  </button>\n",
              "\n",
              "<style>\n",
              "  .colab-df-quickchart {\n",
              "      --bg-color: #E8F0FE;\n",
              "      --fill-color: #1967D2;\n",
              "      --hover-bg-color: #E2EBFA;\n",
              "      --hover-fill-color: #174EA6;\n",
              "      --disabled-fill-color: #AAA;\n",
              "      --disabled-bg-color: #DDD;\n",
              "  }\n",
              "\n",
              "  [theme=dark] .colab-df-quickchart {\n",
              "      --bg-color: #3B4455;\n",
              "      --fill-color: #D2E3FC;\n",
              "      --hover-bg-color: #434B5C;\n",
              "      --hover-fill-color: #FFFFFF;\n",
              "      --disabled-bg-color: #3B4455;\n",
              "      --disabled-fill-color: #666;\n",
              "  }\n",
              "\n",
              "  .colab-df-quickchart {\n",
              "    background-color: var(--bg-color);\n",
              "    border: none;\n",
              "    border-radius: 50%;\n",
              "    cursor: pointer;\n",
              "    display: none;\n",
              "    fill: var(--fill-color);\n",
              "    height: 32px;\n",
              "    padding: 0;\n",
              "    width: 32px;\n",
              "  }\n",
              "\n",
              "  .colab-df-quickchart:hover {\n",
              "    background-color: var(--hover-bg-color);\n",
              "    box-shadow: 0 1px 2px rgba(60, 64, 67, 0.3), 0 1px 3px 1px rgba(60, 64, 67, 0.15);\n",
              "    fill: var(--button-hover-fill-color);\n",
              "  }\n",
              "\n",
              "  .colab-df-quickchart-complete:disabled,\n",
              "  .colab-df-quickchart-complete:disabled:hover {\n",
              "    background-color: var(--disabled-bg-color);\n",
              "    fill: var(--disabled-fill-color);\n",
              "    box-shadow: none;\n",
              "  }\n",
              "\n",
              "  .colab-df-spinner {\n",
              "    border: 2px solid var(--fill-color);\n",
              "    border-color: transparent;\n",
              "    border-bottom-color: var(--fill-color);\n",
              "    animation:\n",
              "      spin 1s steps(1) infinite;\n",
              "  }\n",
              "\n",
              "  @keyframes spin {\n",
              "    0% {\n",
              "      border-color: transparent;\n",
              "      border-bottom-color: var(--fill-color);\n",
              "      border-left-color: var(--fill-color);\n",
              "    }\n",
              "    20% {\n",
              "      border-color: transparent;\n",
              "      border-left-color: var(--fill-color);\n",
              "      border-top-color: var(--fill-color);\n",
              "    }\n",
              "    30% {\n",
              "      border-color: transparent;\n",
              "      border-left-color: var(--fill-color);\n",
              "      border-top-color: var(--fill-color);\n",
              "      border-right-color: var(--fill-color);\n",
              "    }\n",
              "    40% {\n",
              "      border-color: transparent;\n",
              "      border-right-color: var(--fill-color);\n",
              "      border-top-color: var(--fill-color);\n",
              "    }\n",
              "    60% {\n",
              "      border-color: transparent;\n",
              "      border-right-color: var(--fill-color);\n",
              "    }\n",
              "    80% {\n",
              "      border-color: transparent;\n",
              "      border-right-color: var(--fill-color);\n",
              "      border-bottom-color: var(--fill-color);\n",
              "    }\n",
              "    90% {\n",
              "      border-color: transparent;\n",
              "      border-bottom-color: var(--fill-color);\n",
              "    }\n",
              "  }\n",
              "</style>\n",
              "\n",
              "  <script>\n",
              "    async function quickchart(key) {\n",
              "      const quickchartButtonEl =\n",
              "        document.querySelector('#' + key + ' button');\n",
              "      quickchartButtonEl.disabled = true;  // To prevent multiple clicks.\n",
              "      quickchartButtonEl.classList.add('colab-df-spinner');\n",
              "      try {\n",
              "        const charts = await google.colab.kernel.invokeFunction(\n",
              "            'suggestCharts', [key], {});\n",
              "      } catch (error) {\n",
              "        console.error('Error during call to suggestCharts:', error);\n",
              "      }\n",
              "      quickchartButtonEl.classList.remove('colab-df-spinner');\n",
              "      quickchartButtonEl.classList.add('colab-df-quickchart-complete');\n",
              "    }\n",
              "    (() => {\n",
              "      let quickchartButtonEl =\n",
              "        document.querySelector('#df-ac60fa5e-620c-47cd-8aeb-a48d69cd97f9 button');\n",
              "      quickchartButtonEl.style.display =\n",
              "        google.colab.kernel.accessAllowed ? 'block' : 'none';\n",
              "    })();\n",
              "  </script>\n",
              "</div>\n",
              "\n",
              "    </div>\n",
              "  </div>\n"
            ],
            "application/vnd.google.colaboratory.intrinsic+json": {
              "type": "dataframe",
              "variable_name": "df_exp3_rewards",
              "summary": "{\n  \"name\": \"df_exp3_rewards\",\n  \"rows\": 100000,\n  \"fields\": [\n    {\n      \"column\": \"Arm_1\",\n      \"properties\": {\n        \"dtype\": \"number\",\n        \"std\": 0.4795859501974962,\n        \"min\": 0.0,\n        \"max\": 1.0,\n        \"num_unique_values\": 2,\n        \"samples\": [\n          1.0,\n          0.0\n        ],\n        \"semantic_type\": \"\",\n        \"description\": \"\"\n      }\n    },\n    {\n      \"column\": \"Arm_2\",\n      \"properties\": {\n        \"dtype\": \"number\",\n        \"std\": 0.4949228842826015,\n        \"min\": 0.0,\n        \"max\": 1.0,\n        \"num_unique_values\": 2,\n        \"samples\": [\n          0.0,\n          1.0\n        ],\n        \"semantic_type\": \"\",\n        \"description\": \"\"\n      }\n    },\n    {\n      \"column\": \"Arm_3\",\n      \"properties\": {\n        \"dtype\": \"number\",\n        \"std\": 0.4957948015303867,\n        \"min\": 0.0,\n        \"max\": 1.0,\n        \"num_unique_values\": 2,\n        \"samples\": [\n          0.0,\n          1.0\n        ],\n        \"semantic_type\": \"\",\n        \"description\": \"\"\n      }\n    },\n    {\n      \"column\": \"Arm_4\",\n      \"properties\": {\n        \"dtype\": \"number\",\n        \"std\": 0.4837773711177005,\n        \"min\": 0.0,\n        \"max\": 1.0,\n        \"num_unique_values\": 2,\n        \"samples\": [\n          1.0,\n          0.0\n        ],\n        \"semantic_type\": \"\",\n        \"description\": \"\"\n      }\n    },\n    {\n      \"column\": \"Arm_5\",\n      \"properties\": {\n        \"dtype\": \"number\",\n        \"std\": 0.4930552377114853,\n        \"min\": 0.0,\n        \"max\": 1.0,\n        \"num_unique_values\": 2,\n        \"samples\": [\n          0.0,\n          1.0\n        ],\n        \"semantic_type\": \"\",\n        \"description\": \"\"\n      }\n    },\n    {\n      \"column\": \"Arm_6\",\n      \"properties\": {\n        \"dtype\": \"number\",\n        \"std\": 0.4926067033784932,\n        \"min\": 0.0,\n        \"max\": 1.0,\n        \"num_unique_values\": 2,\n        \"samples\": [\n          0.0,\n          1.0\n        ],\n        \"semantic_type\": \"\",\n        \"description\": \"\"\n      }\n    },\n    {\n      \"column\": \"Arm_7\",\n      \"properties\": {\n        \"dtype\": \"number\",\n        \"std\": 0.4904040731497342,\n        \"min\": 0.0,\n        \"max\": 1.0,\n        \"num_unique_values\": 2,\n        \"samples\": [\n          1.0,\n          0.0\n        ],\n        \"semantic_type\": \"\",\n        \"description\": \"\"\n      }\n    },\n    {\n      \"column\": \"Arm_8\",\n      \"properties\": {\n        \"dtype\": \"number\",\n        \"std\": 0.49952528430028104,\n        \"min\": 0.0,\n        \"max\": 1.0,\n        \"num_unique_values\": 2,\n        \"samples\": [\n          1.0,\n          0.0\n        ],\n        \"semantic_type\": \"\",\n        \"description\": \"\"\n      }\n    },\n    {\n      \"column\": \"Arm_9\",\n      \"properties\": {\n        \"dtype\": \"number\",\n        \"std\": 0.49960033377219526,\n        \"min\": 0.0,\n        \"max\": 1.0,\n        \"num_unique_values\": 2,\n        \"samples\": [\n          1.0,\n          0.0\n        ],\n        \"semantic_type\": \"\",\n        \"description\": \"\"\n      }\n    },\n    {\n      \"column\": \"Arm_10\",\n      \"properties\": {\n        \"dtype\": \"number\",\n        \"std\": 0.4968734711499828,\n        \"min\": 0.0,\n        \"max\": 1.0,\n        \"num_unique_values\": 2,\n        \"samples\": [\n          0.0,\n          1.0\n        ],\n        \"semantic_type\": \"\",\n        \"description\": \"\"\n      }\n    }\n  ]\n}"
            }
          },
          "metadata": {},
          "execution_count": 6
        }
      ]
    },
    {
      "cell_type": "markdown",
      "source": [
        "### Explanation:\n",
        "* num_phases: Divides the simulation into different phases, with reward probabilities changing at each phase.\n",
        "* arm_probabilities_dynamic: For each phase, a new set of probabilities is drawn for the arms, simulating an environment where the optimal recommendation changes over time.\n",
        "* exp3_rewards: This simulates the rewards for each arm over time as the environment shifts."
      ],
      "metadata": {
        "id": "uYnd7MRoOUxy"
      }
    },
    {
      "cell_type": "code",
      "source": [],
      "metadata": {
        "id": "vCq8UF5rKM2n"
      },
      "execution_count": 7,
      "outputs": []
    },
    {
      "cell_type": "markdown",
      "source": [
        "# Summary of Simulated Data:\n",
        "\n",
        "* Basic Multi-Armed Bandit (MAB): We simulate fixed Bernoulli rewards for each arm.\n",
        "* Contextual Bandits: We simulate user-specific features that influence the reward probabilities of each arm, creating a more personalized recommendation scenario.\n",
        "* Adversarial Bandits (EXP3): We simulate changing environments where the reward probabilities of arms shift periodically, representing adversarial conditions."
      ],
      "metadata": {
        "id": "fVd1VshSLy_g"
      }
    },
    {
      "cell_type": "code",
      "source": [],
      "metadata": {
        "id": "3y-LRotiMLje"
      },
      "execution_count": 8,
      "outputs": []
    },
    {
      "cell_type": "markdown",
      "source": [
        "# IMPLEMENTATION OF BANDITS"
      ],
      "metadata": {
        "id": "fXm9eHg2MBkq"
      }
    },
    {
      "cell_type": "code",
      "source": [],
      "metadata": {
        "id": "tP5QclBmM6DH"
      },
      "execution_count": 24,
      "outputs": []
    },
    {
      "cell_type": "markdown",
      "source": [
        "# 1.] Epsilon Greedy"
      ],
      "metadata": {
        "id": "cj2fgGzkLb8f"
      }
    },
    {
      "cell_type": "code",
      "source": [
        "\n",
        "import numpy as np\n",
        "\n",
        "# ε-Greedy Algorithm Implementation\n",
        "class EpsilonGreedy:\n",
        "    def __init__(self, n_arms, epsilon=0.1):\n",
        "        self.n_arms = n_arms\n",
        "        self.epsilon = epsilon\n",
        "        self.counts = np.zeros(n_arms)  # Number of times each arm has been pulled\n",
        "        self.values = np.zeros(n_arms)  # Average reward of each arm\n",
        "\n",
        "    def select_arm(self):\n",
        "        if np.random.random() > self.epsilon:\n",
        "            # Exploit: Choose the arm with the highest average reward\n",
        "            return np.argmax(self.values)\n",
        "        else:\n",
        "            # Explore: Choose a random arm\n",
        "            return np.random.randint(self.n_arms)\n",
        "\n",
        "    def update(self, chosen_arm, reward):\n",
        "        # Increment the count of pulls for the chosen arm\n",
        "        self.counts[chosen_arm] += 1\n",
        "        n = self.counts[chosen_arm]\n",
        "\n",
        "        # Update the running average for the chosen arm\n",
        "        self.values[chosen_arm] = self.values[chosen_arm] + (1/n) * (reward - self.values[chosen_arm])\n",
        "\n",
        "# Initialize ε-Greedy algorithm\n",
        "epsilon_greedy = EpsilonGreedy(n_arms=num_arms, epsilon=0.1)\n",
        "\n",
        "# Simulate running the algorithm\n",
        "n_rounds = 100000\n",
        "rewards_eg = []\n",
        "chosen_arms_eg = []\n",
        "\n",
        "for t in range(n_rounds):\n",
        "    chosen_arm = epsilon_greedy.select_arm()\n",
        "    reward = df_rewards[f'Arm_{chosen_arm+1}'].iloc[t]  # Simulated reward from data\n",
        "    epsilon_greedy.update(chosen_arm, reward)\n",
        "\n",
        "    rewards_eg.append(reward)\n",
        "    chosen_arms_eg.append(chosen_arm)\n",
        "\n",
        "# Average reward over time\n",
        "average_reward_eg = np.cumsum(rewards_eg) / (np.arange(n_rounds) + 1)\n",
        "\n",
        "sum(rewards_eg)"
      ],
      "metadata": {
        "colab": {
          "base_uri": "https://localhost:8080/"
        },
        "id": "nG6T-QpIM6GB",
        "outputId": "f0fdfc0b-59f6-448d-e3eb-77632f421d49"
      },
      "execution_count": 16,
      "outputs": [
        {
          "output_type": "execute_result",
          "data": {
            "text/plain": [
              "74201.0"
            ]
          },
          "metadata": {},
          "execution_count": 16
        }
      ]
    },
    {
      "cell_type": "code",
      "source": [],
      "metadata": {
        "id": "8wpBwI3rM6I2"
      },
      "execution_count": 16,
      "outputs": []
    },
    {
      "cell_type": "markdown",
      "source": [
        "# 2.] UCB"
      ],
      "metadata": {
        "id": "hUE-wvdPLXvP"
      }
    },
    {
      "cell_type": "code",
      "source": [
        "class UCB:\n",
        "    def __init__(self, n_arms):\n",
        "        self.n_arms = n_arms\n",
        "        self.counts = np.zeros(n_arms)  # Number of times each arm has been pulled\n",
        "        self.values = np.zeros(n_arms)  # Average reward of each arm\n",
        "\n",
        "    def select_arm(self, t):\n",
        "        # For arms that have not been selected yet, return the index of the first unselected arm\n",
        "        for i in range(self.n_arms):\n",
        "            if self.counts[i] == 0:\n",
        "                return i\n",
        "\n",
        "        # Calculate UCB values for each arm\n",
        "        ucb_values = self.values + np.sqrt(2 * np.log(t) / self.counts)\n",
        "        return np.argmax(ucb_values)\n",
        "\n",
        "    def update(self, chosen_arm, reward):\n",
        "        # Increment the count of pulls for the chosen arm\n",
        "        self.counts[chosen_arm] += 1\n",
        "        n = self.counts[chosen_arm]\n",
        "\n",
        "        # Update the running average for the chosen arm\n",
        "        self.values[chosen_arm] = self.values[chosen_arm] + (1/n) * (reward - self.values[chosen_arm])\n",
        "\n",
        "# Initialize UCB algorithm\n",
        "ucb = UCB(n_arms=num_arms)\n",
        "\n",
        "# Simulate running the UCB algorithm\n",
        "rewards_ucb = []\n",
        "chosen_arms_ucb = []\n",
        "\n",
        "for t in range(1, n_rounds + 1):\n",
        "    chosen_arm = ucb.select_arm(t)\n",
        "    reward = df_rewards[f'Arm_{chosen_arm+1}'].iloc[t-1]  # Simulated reward from data\n",
        "    ucb.update(chosen_arm, reward)\n",
        "\n",
        "    rewards_ucb.append(reward)\n",
        "    chosen_arms_ucb.append(chosen_arm)\n",
        "\n",
        "# Average reward over time\n",
        "average_reward_ucb = np.cumsum(rewards_ucb) / (np.arange(n_rounds) + 1)\n",
        "sum(rewards_ucb)"
      ],
      "metadata": {
        "colab": {
          "base_uri": "https://localhost:8080/"
        },
        "id": "8yGtrR-FSYKb",
        "outputId": "eb2a1a0e-c7c8-49d6-99d0-06130da3817f"
      },
      "execution_count": 18,
      "outputs": [
        {
          "output_type": "execute_result",
          "data": {
            "text/plain": [
              "75903.0"
            ]
          },
          "metadata": {},
          "execution_count": 18
        }
      ]
    },
    {
      "cell_type": "code",
      "source": [],
      "metadata": {
        "id": "tCnZqwo5SYMN"
      },
      "execution_count": 18,
      "outputs": []
    },
    {
      "cell_type": "markdown",
      "source": [
        "# 3.] Thompson Sampling (Bayesian Bandits)"
      ],
      "metadata": {
        "id": "T0WWx1RuLGs-"
      }
    },
    {
      "cell_type": "code",
      "source": [
        "class ThompsonSampling:\n",
        "    def __init__(self, n_arms):\n",
        "        self.n_arms = n_arms\n",
        "        self.successes = np.zeros(n_arms)  # Number of successes for each arm\n",
        "        self.failures = np.zeros(n_arms)  # Number of failures for each arm\n",
        "\n",
        "    def select_arm(self):\n",
        "        # Sample a random value from Beta distribution for each arm\n",
        "        sampled_values = np.random.beta(self.successes + 1, self.failures + 1)\n",
        "        return np.argmax(sampled_values)\n",
        "\n",
        "    def update(self, chosen_arm, reward):\n",
        "        if reward == 1:\n",
        "            self.successes[chosen_arm] += 1\n",
        "        else:\n",
        "            self.failures[chosen_arm] += 1\n",
        "\n",
        "# Initialize Thompson Sampling algorithm\n",
        "thompson_sampling = ThompsonSampling(n_arms=num_arms)\n",
        "\n",
        "# Simulate running the Thompson Sampling algorithm\n",
        "rewards_ts = []\n",
        "chosen_arms_ts = []\n",
        "\n",
        "for t in range(n_rounds):\n",
        "    chosen_arm = thompson_sampling.select_arm()\n",
        "    reward = df_rewards[f'Arm_{chosen_arm+1}'].iloc[t]  # Simulated reward from data\n",
        "    thompson_sampling.update(chosen_arm, reward)\n",
        "\n",
        "    rewards_ts.append(reward)\n",
        "    chosen_arms_ts.append(chosen_arm)\n",
        "\n",
        "# Average reward over time\n",
        "average_reward_ts = np.cumsum(rewards_ts) / (np.arange(n_rounds) + 1)\n",
        "sum(rewards_ts)"
      ],
      "metadata": {
        "colab": {
          "base_uri": "https://localhost:8080/"
        },
        "id": "B_X-wfrbSeTC",
        "outputId": "18ace4c6-a71e-49b6-b6ab-caa3d5b6e620"
      },
      "execution_count": 20,
      "outputs": [
        {
          "output_type": "execute_result",
          "data": {
            "text/plain": [
              "76770.0"
            ]
          },
          "metadata": {},
          "execution_count": 20
        }
      ]
    },
    {
      "cell_type": "code",
      "source": [],
      "metadata": {
        "id": "moxIUa_eSeWr"
      },
      "execution_count": 20,
      "outputs": []
    },
    {
      "cell_type": "markdown",
      "source": [
        "# 4.] Contextual Bandits (LinUCB)"
      ],
      "metadata": {
        "id": "fDYwN9VXLCYQ"
      }
    },
    {
      "cell_type": "code",
      "source": [
        "class LinUCB:\n",
        "    def __init__(self, n_arms, n_features, alpha=0.1):\n",
        "        self.n_arms = n_arms\n",
        "        self.n_features = n_features\n",
        "        self.alpha = alpha\n",
        "\n",
        "        # Initialize parameters for each arm\n",
        "        self.A = [np.identity(n_features) for _ in range(n_arms)]  # Covariance matrix for each arm\n",
        "        self.b = [np.zeros(n_features) for _ in range(n_arms)]  # Bias term for each arm\n",
        "\n",
        "    def select_arm(self, user_features):\n",
        "        ucb_values = []\n",
        "\n",
        "        # Calculate UCB for each arm\n",
        "        for arm in range(self.n_arms):\n",
        "            A_inv = np.linalg.inv(self.A[arm])\n",
        "            theta = A_inv.dot(self.b[arm])\n",
        "            ucb = user_features.dot(theta) + self.alpha * np.sqrt(user_features.dot(A_inv).dot(user_features))\n",
        "            ucb_values.append(ucb)\n",
        "\n",
        "        return np.argmax(ucb_values)\n",
        "\n",
        "    def update(self, chosen_arm, user_features, reward):\n",
        "        # Update the covariance matrix and bias term for the chosen arm\n",
        "        self.A[chosen_arm] += np.outer(user_features, user_features)\n",
        "        self.b[chosen_arm] += reward * user_features\n",
        "\n",
        "# Initialize LinUCB algorithm\n",
        "n_features = user_features.shape[1]\n",
        "linucb = LinUCB(n_arms=num_arms, n_features=n_features, alpha=0.1)\n",
        "\n",
        "# Simulate running the LinUCB algorithm\n",
        "rewards_linucb = []\n",
        "chosen_arms_linucb = []\n",
        "\n",
        "for t in range(n_rounds):\n",
        "    user_context = user_features[t]  # Get the user features for this round\n",
        "    chosen_arm = linucb.select_arm(user_context)\n",
        "    reward = df_contextual_rewards[f'Arm_{chosen_arm+1}'].iloc[t]  # Simulated reward from data\n",
        "    linucb.update(chosen_arm, user_context, reward)\n",
        "\n",
        "    rewards_linucb.append(reward)\n",
        "    chosen_arms_linucb.append(chosen_arm)\n",
        "\n",
        "# Average reward over time\n",
        "average_reward_linucb = np.cumsum(rewards_linucb) / (np.arange(n_rounds) + 1)\n",
        "sum(rewards_linucb)"
      ],
      "metadata": {
        "colab": {
          "base_uri": "https://localhost:8080/"
        },
        "id": "MaGDQF7USgEJ",
        "outputId": "49716f9a-fecf-4729-c56d-aaa4b9c36962"
      },
      "execution_count": 22,
      "outputs": [
        {
          "output_type": "execute_result",
          "data": {
            "text/plain": [
              "75950"
            ]
          },
          "metadata": {},
          "execution_count": 22
        }
      ]
    },
    {
      "cell_type": "code",
      "source": [],
      "metadata": {
        "id": "hbD2nZO9SgHG"
      },
      "execution_count": 22,
      "outputs": []
    },
    {
      "cell_type": "markdown",
      "source": [
        "# 5.] EXP3 (Exponential-weight algorithm for Exploration and Exploitation)"
      ],
      "metadata": {
        "id": "8Sr-cMvvK7v0"
      }
    },
    {
      "cell_type": "code",
      "source": [
        "class EXP3:\n",
        "    def __init__(self, n_arms, gamma=0.1):\n",
        "        self.n_arms = n_arms\n",
        "        self.gamma = gamma\n",
        "        self.weights = np.ones(n_arms)  # Initialize weights for each arm\n",
        "\n",
        "    def select_arm(self):\n",
        "        # Compute probabilities for each arm\n",
        "        total_weight = np.sum(self.weights)\n",
        "        probabilities = (1 - self.gamma) * (self.weights / total_weight) + self.gamma / self.n_arms\n",
        "        return np.random.choice(np.arange(self.n_arms), p=probabilities)\n",
        "\n",
        "    def update(self, chosen_arm, reward, probability):\n",
        "        # Update the weights based on the reward\n",
        "        estimated_reward = reward / probability\n",
        "        self.weights[chosen_arm] *= np.exp(self.gamma * estimated_reward / self.n_arms)\n",
        "\n",
        "# Initialize EXP3 algorithm\n",
        "exp3 = EXP3(n_arms=num_arms, gamma=0.1)\n",
        "\n",
        "# Simulate running the EXP3 algorithm\n",
        "rewards_exp3 = []\n",
        "chosen_arms_exp3 = []\n",
        "\n",
        "for t in range(n_rounds):\n",
        "    chosen_arm = exp3.select_arm()\n",
        "    reward = df_exp3_rewards[f'Arm_{chosen_arm+1}'].iloc[t]  # Simulated reward from dynamic data\n",
        "    probability = (1 - exp3.gamma) * (exp3.weights[chosen_arm] / np.sum(exp3.weights)) + exp3.gamma / num_arms\n",
        "    exp3.update(chosen_arm, reward, probability)\n",
        "\n",
        "    rewards_exp3.append(reward)\n",
        "    chosen_arms_exp3.append(chosen_arm)\n",
        "\n",
        "# Average reward over time\n",
        "average_reward_exp3 = np.cumsum(rewards_exp3) / (np.arange(n_rounds) + 1)\n",
        "sum(rewards_exp3)"
      ],
      "metadata": {
        "colab": {
          "base_uri": "https://localhost:8080/"
        },
        "id": "ufFm7N72Sh3G",
        "outputId": "1b388755-fe43-460c-a38e-4bc7765bddab"
      },
      "execution_count": 24,
      "outputs": [
        {
          "output_type": "execute_result",
          "data": {
            "text/plain": [
              "57896.0"
            ]
          },
          "metadata": {},
          "execution_count": 24
        }
      ]
    },
    {
      "cell_type": "code",
      "source": [],
      "metadata": {
        "id": "PAQwng1sV8uG"
      },
      "execution_count": 24,
      "outputs": []
    },
    {
      "cell_type": "markdown",
      "source": [
        "# 6.] KL-UCB Algorithm"
      ],
      "metadata": {
        "id": "NGITV-7xK1Do"
      }
    },
    {
      "cell_type": "code",
      "source": [
        "from scipy.optimize import minimize_scalar\n",
        "\n",
        "class KLUCB:\n",
        "    def __init__(self, n_arms, c=3):\n",
        "        self.n_arms = n_arms\n",
        "        self.counts = np.zeros(n_arms)  # Number of times each arm has been pulled\n",
        "        self.values = np.zeros(n_arms)  # Average reward of each arm\n",
        "        self.c = c  # Exploration parameter\n",
        "\n",
        "    def kl_divergence(self, p, q):\n",
        "        if p == 0:\n",
        "            return np.log(1/(1 - q))\n",
        "        if p == 1:\n",
        "            return np.log(1/q)\n",
        "        return p * np.log(p / q) + (1 - p) * np.log((1 - p) / (1 - q))\n",
        "\n",
        "    def kl_ucb(self, arm, t):\n",
        "        def objective(q):\n",
        "            return -q if self.kl_divergence(self.values[arm], q) <= (np.log(t) + self.c * np.log(np.log(t))) / self.counts[arm] else np.inf\n",
        "\n",
        "        return minimize_scalar(objective, bounds=(self.values[arm], 1), method='bounded').x\n",
        "\n",
        "    def select_arm(self, t):\n",
        "        if np.min(self.counts) == 0:\n",
        "            return np.argmin(self.counts)\n",
        "        ucb_values = [self.kl_ucb(arm, t) for arm in range(self.n_arms)]\n",
        "        return np.argmax(ucb_values)\n",
        "\n",
        "    def update(self, chosen_arm, reward):\n",
        "        self.counts[chosen_arm] += 1\n",
        "        self.values[chosen_arm] = self.values[chosen_arm] + (1/self.counts[chosen_arm]) * (reward - self.values[chosen_arm])\n",
        "\n",
        "# Initialize KL-UCB algorithm\n",
        "klucb = KLUCB(n_arms=num_arms)\n",
        "\n",
        "# Simulate running the KL-UCB algorithm\n",
        "rewards_klucb = []\n",
        "chosen_arms_klucb = []\n",
        "\n",
        "for t in range(1, n_rounds + 1):\n",
        "    chosen_arm = klucb.select_arm(t)\n",
        "    reward = df_rewards[f'Arm_{chosen_arm+1}'].iloc[t-1]  # Simulated reward from data\n",
        "    klucb.update(chosen_arm, reward)\n",
        "\n",
        "    rewards_klucb.append(reward)\n",
        "    chosen_arms_klucb.append(chosen_arm)\n",
        "\n",
        "# Average reward over time\n",
        "average_reward_klucb = np.cumsum(rewards_klucb) / (np.arange(n_rounds) + 1)\n",
        "sum(rewards_klucb)"
      ],
      "metadata": {
        "colab": {
          "base_uri": "https://localhost:8080/"
        },
        "id": "rQ8Rj3xJSiAY",
        "outputId": "84f9068f-72b3-48bd-b4c6-0a9b0513b7a3"
      },
      "execution_count": 26,
      "outputs": [
        {
          "output_type": "stream",
          "name": "stderr",
          "text": [
            "/usr/local/lib/python3.10/dist-packages/scipy/optimize/_optimize.py:2290: RuntimeWarning: invalid value encountered in scalar multiply\n",
            "  q = (xf - fulc) * (fx - fnfc)\n"
          ]
        },
        {
          "output_type": "execute_result",
          "data": {
            "text/plain": [
              "76796.0"
            ]
          },
          "metadata": {},
          "execution_count": 26
        }
      ]
    },
    {
      "cell_type": "code",
      "source": [],
      "metadata": {
        "id": "PjlsdcA9See2"
      },
      "execution_count": null,
      "outputs": []
    },
    {
      "cell_type": "markdown",
      "source": [
        "# 7.] Bayesian UCB Algorithm"
      ],
      "metadata": {
        "id": "kdGddoZ5KwJj"
      }
    },
    {
      "cell_type": "code",
      "source": [
        "class BayesianUCB:\n",
        "    def __init__(self, n_arms, alpha=0.05):\n",
        "        self.n_arms = n_arms\n",
        "        self.successes = np.zeros(n_arms)  # Number of successes for each arm\n",
        "        self.failures = np.zeros(n_arms)  # Number of failures for each arm\n",
        "        self.alpha = alpha  # Confidence level for upper bound\n",
        "\n",
        "    def select_arm(self):\n",
        "        ucb_values = [np.random.beta(self.successes[arm] + 1, self.failures[arm] + 1) for arm in range(self.n_arms)]\n",
        "        return np.argmax(ucb_values)\n",
        "\n",
        "    def update(self, chosen_arm, reward):\n",
        "        if reward == 1:\n",
        "            self.successes[chosen_arm] += 1\n",
        "        else:\n",
        "            self.failures[chosen_arm] += 1\n",
        "\n",
        "# Initialize Bayesian UCB algorithm\n",
        "bayesian_ucb = BayesianUCB(n_arms=num_arms)\n",
        "\n",
        "# Simulate running the Bayesian UCB algorithm\n",
        "rewards_bayesian_ucb = []\n",
        "chosen_arms_bayesian_ucb = []\n",
        "\n",
        "for t in range(n_rounds):\n",
        "    chosen_arm = bayesian_ucb.select_arm()\n",
        "    reward = df_rewards[f'Arm_{chosen_arm+1}'].iloc[t]  # Simulated reward from data\n",
        "    bayesian_ucb.update(chosen_arm, reward)\n",
        "\n",
        "    rewards_bayesian_ucb.append(reward)\n",
        "    chosen_arms_bayesian_ucb.append(chosen_arm)\n",
        "\n",
        "# Average reward over time\n",
        "average_reward_bayesian_ucb = np.cumsum(rewards_bayesian_ucb) / (np.arange(n_rounds) + 1)\n",
        "sum(rewards_bayesian_ucb)"
      ],
      "metadata": {
        "colab": {
          "base_uri": "https://localhost:8080/"
        },
        "id": "8UxZiqHRSelL",
        "outputId": "b48c5e54-ec93-46e3-99a3-652c979e1004"
      },
      "execution_count": 27,
      "outputs": [
        {
          "output_type": "execute_result",
          "data": {
            "text/plain": [
              "76726.0"
            ]
          },
          "metadata": {},
          "execution_count": 27
        }
      ]
    },
    {
      "cell_type": "code",
      "source": [],
      "metadata": {
        "id": "LoJ--kYnSYRY"
      },
      "execution_count": 28,
      "outputs": []
    },
    {
      "cell_type": "markdown",
      "source": [
        "# 8.] Hybrid Bandit Algorithm (Bandit + Collaborative Filtering)"
      ],
      "metadata": {
        "id": "uvY1vWF0KrYV"
      }
    },
    {
      "cell_type": "code",
      "source": [
        "from sklearn.decomposition import NMF\n",
        "\n",
        "class HybridBandit:\n",
        "    def __init__(self, n_arms, n_users, n_features):\n",
        "        self.n_arms = n_arms\n",
        "        self.n_users = n_users\n",
        "        self.n_features = n_features\n",
        "\n",
        "        # Random initialization of user and arm feature matrices\n",
        "        self.U = np.random.rand(self.n_users, self.n_features)\n",
        "        self.V = np.random.rand(self.n_arms, self.n_features)\n",
        "\n",
        "    def select_arm(self, user_id):\n",
        "        # Compute the predicted reward for each arm\n",
        "        rewards = np.dot(self.U[user_id], self.V.T)\n",
        "        return np.argmax(rewards)\n",
        "\n",
        "    def update(self, user_id, chosen_arm, reward):\n",
        "        # Update the user and arm features using matrix factorization (stochastic gradient descent)\n",
        "        self.U[user_id] = self.U[user_id] + 0.01 * (reward - np.dot(self.U[user_id], self.V[chosen_arm])) * self.V[chosen_arm]\n",
        "        self.V[chosen_arm] = self.V[chosen_arm] + 0.01 * (reward - np.dot(self.U[user_id], self.V[chosen_arm])) * self.U[user_id]\n",
        "\n",
        "# Initialize Hybrid Bandit algorithm\n",
        "hybrid_bandit = HybridBandit(n_arms=num_arms, n_users=num_users, n_features=5)\n",
        "\n",
        "# Simulate running the Hybrid Bandit algorithm\n",
        "rewards_hybrid = []\n",
        "chosen_arms_hybrid = []\n",
        "\n",
        "for t in range(n_rounds):\n",
        "    user_id = t % num_users  # Cycling through users\n",
        "    chosen_arm = hybrid_bandit.select_arm(user_id)\n",
        "    reward = df_contextual_rewards[f'Arm_{chosen_arm+1}'].iloc[t]  # Simulated reward from data\n",
        "    hybrid_bandit.update(user_id, chosen_arm, reward)\n",
        "\n",
        "    rewards_hybrid.append(reward)\n",
        "    chosen_arms_hybrid.append(chosen_arm)\n",
        "\n",
        "# Average reward over time\n",
        "average_reward_hybrid = np.cumsum(rewards_hybrid) / (np.arange(n_rounds) + 1)\n",
        "sum(rewards_hybrid)"
      ],
      "metadata": {
        "colab": {
          "base_uri": "https://localhost:8080/"
        },
        "id": "Ey8qiXfzSYTz",
        "outputId": "4aae49a9-e11d-42c5-ccf4-43c3f237bab5"
      },
      "execution_count": 29,
      "outputs": [
        {
          "output_type": "execute_result",
          "data": {
            "text/plain": [
              "77831"
            ]
          },
          "metadata": {},
          "execution_count": 29
        }
      ]
    },
    {
      "cell_type": "code",
      "source": [],
      "metadata": {
        "id": "A38saqjIaLRv"
      },
      "execution_count": 54,
      "outputs": []
    },
    {
      "cell_type": "markdown",
      "source": [
        "# 9.] Neural Bandit Algorithm"
      ],
      "metadata": {
        "id": "K__jc_SSJYO8"
      }
    },
    {
      "cell_type": "code",
      "source": [
        "import torch\n",
        "import torch.nn as nn\n",
        "import torch.optim as optim\n",
        "\n",
        "class NeuralBandit(nn.Module):\n",
        "    def __init__(self, input_dim, output_dim):\n",
        "        super(NeuralBandit, self).__init__()\n",
        "        self.fc1 = nn.Linear(input_dim, 128)\n",
        "        self.fc2 = nn.Linear(128, 64)\n",
        "        self.fc3 = nn.Linear(64, output_dim)\n",
        "\n",
        "    def forward(self, x):\n",
        "        x = torch.relu(self.fc1(x))\n",
        "        x = torch.relu(self.fc2(x))\n",
        "        return self.fc3(x)\n",
        "\n",
        "class NeuralBanditAgent:\n",
        "    def __init__(self, input_dim, n_arms, lr=0.001):\n",
        "        self.model = NeuralBandit(input_dim, n_arms)\n",
        "        self.optimizer = optim.Adam(self.model.parameters(), lr=lr)\n",
        "        self.criterion = nn.MSELoss()\n",
        "        self.n_arms = n_arms\n",
        "\n",
        "    def select_arm(self, user_features):\n",
        "        with torch.no_grad():\n",
        "            predictions = self.model(torch.FloatTensor(user_features)).numpy()\n",
        "        return np.argmax(predictions)\n",
        "\n",
        "    def update(self, user_features, chosen_arm, reward):\n",
        "        self.optimizer.zero_grad()\n",
        "        predictions = self.model(torch.FloatTensor(user_features))\n",
        "        target = predictions.clone().detach()\n",
        "        target[chosen_arm] = reward\n",
        "        loss = self.criterion(predictions, target)\n",
        "        loss.backward()\n",
        "        self.optimizer.step()\n",
        "\n",
        "# Initialize Neural Bandit agent\n",
        "neural_bandit = NeuralBanditAgent(input_dim=num_features, n_arms=num_arms, lr=0.001)\n",
        "\n",
        "# Simulate running the Neural Bandit algorithm\n",
        "rewards_neural = []\n",
        "chosen_arms_neural = []\n",
        "\n",
        "for t in range(n_rounds):\n",
        "    user_context = user_features[t]  # Get the user features for this round\n",
        "    chosen_arm = neural_bandit.select_arm(user_context)\n",
        "    reward = df_contextual_rewards[f'Arm_{chosen_arm+1}'].iloc[t]  # Simulated reward from data\n",
        "    neural_bandit.update(user_context, chosen_arm, reward)\n",
        "\n",
        "    rewards_neural.append(reward)\n",
        "    chosen_arms_neural.append(chosen_arm)\n",
        "\n",
        "# Average reward over time\n",
        "average_reward_neural = np.cumsum(rewards_neural) / (np.arange(n_rounds) + 1)\n",
        "sum(rewards_neural)\n"
      ],
      "metadata": {
        "colab": {
          "base_uri": "https://localhost:8080/"
        },
        "id": "ob22duNqSYbC",
        "outputId": "1e8ac8e0-39bf-493f-a044-e01a68719f8d"
      },
      "execution_count": 11,
      "outputs": [
        {
          "output_type": "execute_result",
          "data": {
            "text/plain": [
              "73854"
            ]
          },
          "metadata": {},
          "execution_count": 11
        }
      ]
    },
    {
      "cell_type": "code",
      "source": [],
      "metadata": {
        "id": "JxMDQqaPSYdm"
      },
      "execution_count": null,
      "outputs": []
    },
    {
      "cell_type": "code",
      "source": [],
      "metadata": {
        "id": "T75oGxv6SqHK"
      },
      "execution_count": 12,
      "outputs": []
    },
    {
      "cell_type": "code",
      "source": [],
      "metadata": {
        "id": "l0BQOoTASqX2"
      },
      "execution_count": null,
      "outputs": []
    },
    {
      "cell_type": "code",
      "source": [
        "import matplotlib.pyplot as plt\n",
        "\n",
        "# Define the optimal arm (i.e., the arm with the highest average reward in the data)\n",
        "optimal_arm = np.argmax([df_rewards[f'Arm_{i+1}'].mean() for i in range(num_arms)])\n",
        "optimal_rewards = df_rewards[f'Arm_{optimal_arm+1}']"
      ],
      "metadata": {
        "id": "CtMXmAF4OZHr"
      },
      "execution_count": 14,
      "outputs": []
    },
    {
      "cell_type": "code",
      "source": [
        "# Function to calculate cumulative reward and regret for a bandit algorithm\n",
        "def calculate_performance(chosen_arms, rewards, optimal_rewards):\n",
        "    cumulative_rewards = np.cumsum(rewards)\n",
        "    average_cumulative_reward = cumulative_rewards / (np.arange(len(rewards)) + 1)\n",
        "\n",
        "    optimal_cumulative_rewards = np.cumsum(optimal_rewards[:len(rewards)])\n",
        "    regret = optimal_cumulative_rewards - cumulative_rewards\n",
        "\n",
        "    return average_cumulative_reward, regret\n",
        "\n",
        "#"
      ],
      "metadata": {
        "id": "HZXJC1RRM6MO"
      },
      "execution_count": 15,
      "outputs": []
    },
    {
      "cell_type": "code",
      "source": [],
      "metadata": {
        "id": "VHfjhMwiJisl"
      },
      "execution_count": null,
      "outputs": []
    },
    {
      "cell_type": "code",
      "source": [
        "\n",
        "# Calculate performance for each bandit algorithm\n",
        "\n",
        "# ε-Greedy\n",
        "avg_reward_eg, regret_eg = calculate_performance(chosen_arms_eg, rewards_eg, optimal_rewards)\n",
        "\n",
        "# UCB\n",
        "avg_reward_ucb, regret_ucb = calculate_performance(chosen_arms_ucb, rewards_ucb, optimal_rewards)\n",
        "\n",
        "# Thompson Sampling\n",
        "avg_reward_ts, regret_ts = calculate_performance(chosen_arms_ts, rewards_ts, optimal_rewards)\n",
        "\n",
        "# LinUCB\n",
        "avg_reward_linucb, regret_linucb = calculate_performance(chosen_arms_linucb, rewards_linucb, optimal_rewards)\n",
        "\n",
        "# EXP3\n",
        "avg_reward_exp3, regret_exp3 = calculate_performance(chosen_arms_exp3, rewards_exp3, optimal_rewards)\n",
        "\n",
        "# KL-UCB\n",
        "avg_reward_klucb, regret_klucb = calculate_performance(chosen_arms_klucb, rewards_klucb, optimal_rewards)\n",
        "\n",
        "# Bayesian UCB\n",
        "avg_reward_bayesian_ucb, regret_bayesian_ucb = calculate_performance(chosen_arms_bayesian_ucb, rewards_bayesian_ucb, optimal_rewards)\n",
        "\n",
        "# Hybrid Bandit\n",
        "avg_reward_hybrid, regret_hybrid = calculate_performance(chosen_arms_hybrid, rewards_hybrid, optimal_rewards)\n",
        "\n",
        "# Neural Bandit\n",
        "avg_reward_neural, regret_neural = calculate_performance(chosen_arms_neural, rewards_neural, optimal_rewards)\n"
      ],
      "metadata": {
        "id": "MRdXC-zzM6Pn"
      },
      "execution_count": 30,
      "outputs": []
    },
    {
      "cell_type": "code",
      "source": [],
      "metadata": {
        "id": "L0YfZ_gyM6TP"
      },
      "execution_count": 15,
      "outputs": []
    },
    {
      "cell_type": "code",
      "source": [
        "# Plot cumulative reward for each algorithm\n",
        "plt.figure(figsize=(10, 6))\n",
        "\n",
        "plt.plot(avg_reward_eg, label=\"ε-Greedy\")\n",
        "plt.plot(avg_reward_ucb, label=\"UCB\")\n",
        "plt.plot(avg_reward_ts, label=\"Thompson Sampling\")\n",
        "plt.plot(avg_reward_linucb, label=\"LinUCB\")\n",
        "plt.plot(avg_reward_exp3, label=\"EXP3\")\n",
        "plt.plot(avg_reward_klucb, label=\"KL-UCB\")\n",
        "plt.plot(avg_reward_bayesian_ucb, label=\"Bayesian UCB\")\n",
        "plt.plot(avg_reward_hybrid, label=\"Hybrid Bandit\")\n",
        "plt.plot(avg_reward_neural, label=\"Neural Bandit\")\n",
        "\n",
        "plt.title(\"Average Cumulative Reward of Bandit Algorithms\")\n",
        "plt.xlabel(\"Rounds\")\n",
        "plt.ylabel(\"Average Cumulative Reward\")\n",
        "plt.legend()\n",
        "plt.show()\n",
        "\n",
        "# Plot cumulative regret for each algorithm\n",
        "plt.figure(figsize=(10, 6))\n",
        "\n",
        "plt.plot(regret_eg, label=\"ε-Greedy\")\n",
        "plt.plot(regret_ucb, label=\"UCB\")\n",
        "plt.plot(regret_ts, label=\"Thompson Sampling\")\n",
        "plt.plot(regret_linucb, label=\"LinUCB\")\n",
        "plt.plot(regret_exp3, label=\"EXP3\")\n",
        "plt.plot(regret_klucb, label=\"KL-UCB\")\n",
        "plt.plot(regret_bayesian_ucb, label=\"Bayesian UCB\")\n",
        "plt.plot(regret_hybrid, label=\"Hybrid Bandit\")\n",
        "plt.plot(regret_neural, label=\"Neural Bandit\")\n",
        "\n",
        "plt.title(\"Cumulative Regret of Bandit Algorithms\")\n",
        "plt.xlabel(\"Rounds\")\n",
        "plt.ylabel(\"Cumulative Regret\")\n",
        "plt.legend()\n",
        "plt.show()\n"
      ],
      "metadata": {
        "colab": {
          "base_uri": "https://localhost:8080/",
          "height": 1000
        },
        "id": "Cyk09iiCM6W4",
        "outputId": "54256f2e-0d4e-4fc2-d0da-34d26d1bcf64"
      },
      "execution_count": 33,
      "outputs": [
        {
          "output_type": "display_data",
          "data": {
            "text/plain": [
              "<Figure size 1000x600 with 1 Axes>"
            ],
            "image/png": "[encoded data removed]"
          },
          "metadata": {}
        },
        {
          "output_type": "display_data",
          "data": {
            "text/plain": [
              "<Figure size 1000x600 with 1 Axes>"
            ],
            "image/png": "[encoded data removed]"
          },
          "metadata": {}
        }
      ]
    },
    {
      "cell_type": "code",
      "source": [],
      "metadata": {
        "id": "3Vcux1jbM6a7"
      },
      "execution_count": null,
      "outputs": []
    },
    {
      "cell_type": "markdown",
      "source": [
        "\n",
        "# 5. Comparison Criteria\n",
        "\n",
        "Here are some criteria for comparing and evaluating the performance of bandit algorithms:\n",
        "\n",
        "* 1. Average Cumulative Reward:\n",
        "Higher is better: The algorithm with the highest cumulative reward over time indicates that it is exploiting the best arms effectively,\n",
        "while still exploring suboptimal ones to ensure good long-term performance.\n",
        "* 2. Cumulative Regret:\n",
        "Lower is better: Regret measures how far behind the algorithm is compared to the optimal strategy. The algorithm with the lowest regret\n",
        "indicates it is learning and identifying the best arms more quickly.\n",
        "* 3. Stability and Convergence:\n",
        "Look for how stable the performance is over time. Algorithms that fluctuate widely in cumulative reward may struggle with exploration.\n",
        "Convergence indicates how fast the algorithm identifies the optimal arm. Some algorithms (like Thompson Sampling and UCB) are known to\n",
        " converge faster.\n",
        "* 4. Exploration-Exploitation Trade-Off:\n",
        "ε-Greedy: Simple and fast, but the performance may degrade if ε is not set properly.\n",
        "\n",
        "* UCB: More robust in balancing exploration and exploitation. It naturally explores arms with higher uncertainty.\n",
        "* Thompson Sampling: One of the most effective algorithms when there’s high uncertainty. It uses Bayesian updates for exploration.\n",
        "* KL-UCB: Strong in cases where the reward distributions are not Gaussian or have more complex distributions.\n",
        "* Bayesian UCB: Well-suited for non-stationary environments.\n",
        "* Hybrid Bandit: Combines collaborative filtering and bandit exploration, which is useful in cold-start problems or sparse data environments.\n",
        "* Neural Bandit: Can handle complex, non-linear relationships, especially when there is high dimensionality in the feature space."
      ],
      "metadata": {
        "id": "YhQ52gBEJk9A"
      }
    },
    {
      "cell_type": "code",
      "source": [],
      "metadata": {
        "id": "G3DN9n5HMrvf"
      },
      "execution_count": null,
      "outputs": []
    },
    {
      "cell_type": "markdown",
      "source": [
        "# Summary of the Bandit Algorithms with Real Ads and User Features\n",
        "\n",
        "* ε-Greedy: Mostly shows the best ad but occasionally explores other ads randomly.\n",
        "\n",
        "* UCB: Shows the best ad but gives under-explored ads a chance by using confidence bounds.\n",
        "\n",
        "* Thompson Sampling: Uses probabilities to balance exploring uncertain ads with exploiting the best-known ads.\n",
        "\n",
        "* KL-UCB: Like UCB, but smarter with its exploration by using KL divergence.\n",
        "\n",
        "* Bayesian UCB: Uses Bayesian statistics to calculate confidence intervals and explore uncertain ads.\n",
        "\n",
        "* EXP3: Designed for changing environments, dynamically adjusting its choice of ads.\n",
        "\n",
        "* Hybrid Bandit: Uses user preferences (collaborative filtering) and bandit exploration.\n",
        "\n",
        "* Contextual Bandit (LinUCB): Uses user features to personalize ad recommendations.\n",
        "\n",
        "* Neural Bandit: Uses neural networks to capture complex, non-linear relationships between users and ads."
      ],
      "metadata": {
        "id": "3qHONJS7Nv_6"
      }
    },
    {
      "cell_type": "code",
      "source": [],
      "metadata": {
        "id": "qIcC4M07M6tw"
      },
      "execution_count": null,
      "outputs": []
    },
    {
      "cell_type": "code",
      "source": [],
      "metadata": {
        "id": "pEJK54Pu5bci"
      },
      "execution_count": null,
      "outputs": []
    },
    {
      "cell_type": "code",
      "source": [],
      "metadata": {
        "id": "WACg-TUjOGSs"
      },
      "execution_count": null,
      "outputs": []
    }
  ]
}