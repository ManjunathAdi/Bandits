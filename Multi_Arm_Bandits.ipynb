{
  "nbformat": 4,
  "nbformat_minor": 0,
  "metadata": {
    "colab": {
      "provenance": [],
      "authorship_tag": "ABX9TyNi+T4wJVrFRied+1rf1Afo",
      "include_colab_link": true
    },
    "kernelspec": {
      "name": "python3",
      "display_name": "Python 3"
    },
    "language_info": {
      "name": "python"
    }
  },
  "cells": [
    {
      "cell_type": "markdown",
      "metadata": {
        "id": "view-in-github",
        "colab_type": "text"
      },
      "source": [
        "<a href=\"https://colab.research.google.com/github/ManjunathAdi/Bandits/blob/main/Multi_Arm_Bandits.ipynb\" target=\"_parent\"><img src=\"https://colab.research.google.com/assets/colab-badge.svg\" alt=\"Open In Colab\"/></a>"
      ]
    },
    {
      "cell_type": "code",
      "execution_count": null,
      "metadata": {
        "id": "0RnG_Ugy5PcF"
      },
      "outputs": [],
      "source": []
    },
    {
      "cell_type": "code",
      "source": [
        "# Bhagavan Mahamrityunjaya Mahadev"
      ],
      "metadata": {
        "id": "_v3sSN60QAc6"
      },
      "execution_count": null,
      "outputs": []
    },
    {
      "cell_type": "code",
      "source": [],
      "metadata": {
        "id": "chpITfW2QApS"
      },
      "execution_count": null,
      "outputs": []
    },
    {
      "cell_type": "markdown",
      "source": [
        "# Implementation of several bandit algorithms for personalized recommendation systems.\n",
        "\n",
        "\n",
        "The most common bandit algorithms include:\n",
        "\n",
        "* 1.] Epsilon-Greedy: Selects actions either greedily (based on the highest estimated reward) or randomly (to explore new options).\n",
        "* 2.] Upper Confidence Bound (UCB1): Balances exploration and exploitation by considering both the average reward of an action and the uncertainty in that estimate.\n",
        "* 3.] Thompson Sampling: Samples from the posterior distribution of each action's reward, favoring actions with greater uncertainty."
      ],
      "metadata": {
        "id": "OQHoLS8hQFHy"
      }
    },
    {
      "cell_type": "code",
      "source": [],
      "metadata": {
        "id": "cCWTxrjT5U2M"
      },
      "execution_count": null,
      "outputs": []
    },
    {
      "cell_type": "markdown",
      "source": [
        "# Step 1: Load a Sample Dataset\n",
        "\n",
        "Let's assume we have a simple dataset where we simulate user interactions with three different items.\n",
        "Each row represents an interaction where a user receives a recommendation and gives a binary feedback (reward) indicating whether they liked the recommendation (reward = 1) or not (reward = 0)."
      ],
      "metadata": {
        "id": "kD1Uj-ZCRcVt"
      }
    },
    {
      "cell_type": "code",
      "source": [
        "\n",
        "#For simplicity, we'll simulate this dataset in code:\n",
        "import numpy as np\n",
        "import random\n",
        "\n",
        "# Simulated probabilities of receiving a reward (1) for each arm (item)\n",
        "true_conversion_rates = [0.1, 0.2, 0.3]  # Arm 0 has 10% chance, Arm 1 has 20%, Arm 2 has 30%\n",
        "\n",
        "# Function to simulate user interaction for each arm\n",
        "def simulate_user_interaction(arm):\n",
        "    return 1 if random.random() < true_conversion_rates[arm] else 0\n",
        "\n",
        "# Simulating 1000 user interactions\n",
        "np.random.seed(42)\n",
        "n_interactions = 100000\n",
        "n_arms = len(true_conversion_rates)\n",
        "\n",
        "# Logs of interactions: [(chosen_arm, reward)]\n",
        "interaction_logs = [(random.randrange(n_arms), simulate_user_interaction(random.randrange(n_arms))) for _ in range(n_interactions)]\n",
        "len(interaction_logs)"
      ],
      "metadata": {
        "colab": {
          "base_uri": "https://localhost:8080/"
        },
        "id": "rJr2J3s95U7e",
        "outputId": "f1d37912-b0d4-480c-fa44-89b9f4eca1ad"
      },
      "execution_count": 12,
      "outputs": [
        {
          "output_type": "execute_result",
          "data": {
            "text/plain": [
              "100000"
            ]
          },
          "metadata": {},
          "execution_count": 12
        }
      ]
    },
    {
      "cell_type": "code",
      "source": [
        "interaction_logs[0:8]"
      ],
      "metadata": {
        "colab": {
          "base_uri": "https://localhost:8080/"
        },
        "id": "oFYBhLJI5U-B",
        "outputId": "3a44d751-9ddd-49b1-fa48-a8b99bc79fbb"
      },
      "execution_count": 13,
      "outputs": [
        {
          "output_type": "execute_result",
          "data": {
            "text/plain": [
              "[(2, 0), (1, 1), (1, 0), (2, 0), (1, 0), (0, 0), (2, 1), (2, 1)]"
            ]
          },
          "metadata": {},
          "execution_count": 13
        }
      ]
    },
    {
      "cell_type": "code",
      "source": [],
      "metadata": {
        "id": "m0KZl9M55VAX"
      },
      "execution_count": null,
      "outputs": []
    },
    {
      "cell_type": "markdown",
      "source": [
        "# Step 2: Implement Epsilon-Greedy Bandit Algorithm\n",
        "Epsilon-Greedy randomly explores other arms (recommendations) with a probability epsilon and exploits the best-known arm (highest average reward) the rest of the time. This ensures a balance between exploration and exploitation."
      ],
      "metadata": {
        "id": "-vdeqAvPRxr6"
      }
    },
    {
      "cell_type": "code",
      "source": [
        "\n",
        "class EpsilonGreedyBandit:\n",
        "    def __init__(self, n_arms, epsilon=0.1):\n",
        "        self.n_arms = n_arms\n",
        "        self.epsilon = epsilon\n",
        "        self.counts = [0] * n_arms  # Track the number of times each arm was chosen\n",
        "        self.values = [0.0] * n_arms  # Estimated value (mean reward) of each arm\n",
        "\n",
        "    def select_arm(self):\n",
        "        # With probability epsilon, explore a random arm\n",
        "        if random.random() < self.epsilon:\n",
        "            return random.randrange(self.n_arms)\n",
        "        # Otherwise, exploit the best-known arm (highest estimated value)\n",
        "        return np.argmax(self.values)\n",
        "\n",
        "    def update(self, chosen_arm, reward):\n",
        "        # Update the estimated value of the chosen arm\n",
        "        self.counts[chosen_arm] += 1\n",
        "        n = self.counts[chosen_arm]\n",
        "        value = self.values[chosen_arm]\n",
        "        # Incremental mean update\n",
        "        self.values[chosen_arm] = ((n - 1) / n) * value + (1 / n) * reward\n"
      ],
      "metadata": {
        "id": "Zec5Si0J_EI1"
      },
      "execution_count": 7,
      "outputs": []
    },
    {
      "cell_type": "code",
      "source": [],
      "metadata": {
        "id": "_NI269Hz_ELP"
      },
      "execution_count": null,
      "outputs": []
    },
    {
      "cell_type": "markdown",
      "source": [
        "# Step 3: Implement Upper Confidence Bound (UCB1) Algorithm\n",
        "\n",
        "UCB1 chooses the arm that has the best balance between having a high average reward and being relatively unexplored.\n",
        "The uncertainty is represented by the confidence interval, and UCB1 tries to exploit arms that have high potential but haven’t been explored enough."
      ],
      "metadata": {
        "id": "1ncv1mHxSEmh"
      }
    },
    {
      "cell_type": "code",
      "source": [
        "import math\n",
        "\n",
        "class UCB1Bandit:\n",
        "    def __init__(self, n_arms):\n",
        "        self.n_arms = n_arms\n",
        "        self.counts = [0] * n_arms  # Number of times each arm was pulled\n",
        "        self.values = [0.0] * n_arms  # Average reward of each arm\n",
        "\n",
        "    def select_arm(self):\n",
        "        total_counts = sum(self.counts)\n",
        "        if total_counts < self.n_arms:\n",
        "            # Explore all arms at least once\n",
        "            return total_counts\n",
        "        # Calculate UCB1 values for each arm\n",
        "        ucb_values = [0.0] * self.n_arms\n",
        "        for arm in range(self.n_arms):\n",
        "            bonus = math.sqrt((2 * math.log(total_counts)) / self.counts[arm])\n",
        "            ucb_values[arm] = self.values[arm] + bonus\n",
        "        return np.argmax(ucb_values)\n",
        "\n",
        "    def update(self, chosen_arm, reward):\n",
        "        # Update the estimated value of the chosen arm\n",
        "        self.counts[chosen_arm] += 1\n",
        "        n = self.counts[chosen_arm]\n",
        "        value = self.values[chosen_arm]\n",
        "        # Incremental mean update\n",
        "        self.values[chosen_arm] = ((n - 1) / n) * value + (1 / n) * reward\n"
      ],
      "metadata": {
        "id": "qa3KLbcO_EQi"
      },
      "execution_count": 8,
      "outputs": []
    },
    {
      "cell_type": "code",
      "source": [],
      "metadata": {
        "id": "Mv30H5JZBOOE"
      },
      "execution_count": null,
      "outputs": []
    },
    {
      "cell_type": "markdown",
      "source": [
        "# Step 4: Implement Thompson Sampling Algorithm\n",
        "\n",
        "Thompson Sampling draws samples from the posterior distribution of each arm's reward and selects the arm with the highest sampled reward.\n",
        "It implicitly balances exploration and exploitation by sampling from uncertain arms more frequently."
      ],
      "metadata": {
        "id": "YnxEdv1rSMa4"
      }
    },
    {
      "cell_type": "code",
      "source": [
        "import numpy as np\n",
        "\n",
        "class ThompsonSamplingBandit:\n",
        "    def __init__(self, n_arms):\n",
        "        self.n_arms = n_arms\n",
        "        self.successes = [0] * n_arms  # Number of successful rewards for each arm\n",
        "        self.failures = [0] * n_arms  # Number of failures (non-rewards) for each arm\n",
        "\n",
        "    def select_arm(self):\n",
        "        # Sample from the Beta distribution for each arm\n",
        "        sampled_values = [np.random.beta(self.successes[arm] + 1, self.failures[arm] + 1) for arm in range(self.n_arms)]\n",
        "        # Select the arm with the highest sampled value\n",
        "        return np.argmax(sampled_values)\n",
        "\n",
        "    def update(self, chosen_arm, reward):\n",
        "        if reward == 1:\n",
        "            self.successes[chosen_arm] += 1\n",
        "        else:\n",
        "            self.failures[chosen_arm] += 1\n"
      ],
      "metadata": {
        "id": "fs7QBKvVBOT0"
      },
      "execution_count": 9,
      "outputs": []
    },
    {
      "cell_type": "code",
      "source": [],
      "metadata": {
        "id": "JUq-KtA0BOW2"
      },
      "execution_count": null,
      "outputs": []
    },
    {
      "cell_type": "markdown",
      "source": [
        "# Step 5: Simulation of the Bandit Algorithms on the Dataset\n",
        "\n",
        "Now that we have the implementations of the three algorithms, let's simulate each one on the dataset and observe their performance."
      ],
      "metadata": {
        "id": "guK5OpgFST55"
      }
    },
    {
      "cell_type": "code",
      "source": [
        "# Simulating each bandit algorithm on the dataset\n",
        "def simulate_bandit(bandit, n_rounds, log=True):\n",
        "    rewards = []\n",
        "    for _ in range(n_rounds):\n",
        "        arm = bandit.select_arm()\n",
        "        reward = simulate_user_interaction(arm)\n",
        "        bandit.update(arm, reward)\n",
        "        rewards.append(reward)\n",
        "    return rewards\n",
        "\n",
        "# Run simulation for each algorithm\n",
        "n_rounds = 100000\n",
        "\n",
        "# Epsilon-Greedy Bandit\n",
        "eg_bandit = EpsilonGreedyBandit(n_arms=n_arms, epsilon=0.1)\n",
        "eg_rewards = simulate_bandit(eg_bandit, n_rounds)\n",
        "\n",
        "# UCB1 Bandit\n",
        "ucb1_bandit = UCB1Bandit(n_arms=n_arms)\n",
        "ucb1_rewards = simulate_bandit(ucb1_bandit, n_rounds)\n",
        "\n",
        "# Thompson Sampling Bandit\n",
        "ts_bandit = ThompsonSamplingBandit(n_arms=n_arms)\n",
        "ts_rewards = simulate_bandit(ts_bandit, n_rounds)\n",
        "\n",
        "# Summarize results\n",
        "print(f\"Epsilon-Greedy total reward: {sum(eg_rewards)}\")\n",
        "print(f\"UCB1 total reward: {sum(ucb1_rewards)}\")\n",
        "print(f\"Thompson Sampling total reward: {sum(ts_rewards)}\")\n"
      ],
      "metadata": {
        "colab": {
          "base_uri": "https://localhost:8080/"
        },
        "id": "Si81WHRPBOiq",
        "outputId": "80e234f2-5b46-4fb5-acec-0c8be978032b"
      },
      "execution_count": 15,
      "outputs": [
        {
          "output_type": "stream",
          "name": "stdout",
          "text": [
            "Epsilon-Greedy total reward: 29154\n",
            "UCB1 total reward: 29988\n",
            "Thompson Sampling total reward: 29865\n"
          ]
        }
      ]
    },
    {
      "cell_type": "code",
      "source": [],
      "metadata": {
        "id": "zI2fSz7N5VDA"
      },
      "execution_count": 17,
      "outputs": []
    },
    {
      "cell_type": "markdown",
      "source": [
        "# Step 6: Visualize the Performance\n",
        "\n",
        "To better understand how each algorithm performs over time, we can visualize cumulative reward obtained by each bandit over the rounds."
      ],
      "metadata": {
        "id": "3ixRVaLCScnz"
      }
    },
    {
      "cell_type": "code",
      "source": [
        "import matplotlib.pyplot as plt\n",
        "\n",
        "# Calculate cumulative rewards for each algorithm\n",
        "def cumulative_rewards(rewards):\n",
        "    return np.cumsum(rewards)\n",
        "\n",
        "eg_cum_rewards = cumulative_rewards(eg_rewards)\n",
        "ucb1_cum_rewards = cumulative_rewards(ucb1_rewards)\n",
        "ts_cum_rewards = cumulative_rewards(ts_rewards)\n",
        "\n",
        "# Plot cumulative rewards\n",
        "plt.figure(figsize=(10, 6))\n",
        "plt.plot(eg_cum_rewards, label=\"Epsilon-Greedy\", color=\"blue\")\n",
        "plt.plot(ucb1_cum_rewards, label=\"UCB1\", color=\"green\")\n",
        "plt.plot(ts_cum_rewards, label=\"Thompson Sampling\", color=\"red\")\n",
        "plt.title(\"Cumulative Reward Comparison\")\n",
        "plt.xlabel(\"Rounds\")\n",
        "plt.ylabel(\"Cumulative Reward\")\n",
        "plt.legend()\n",
        "plt.show()\n"
      ],
      "metadata": {
        "colab": {
          "base_uri": "https://localhost:8080/",
          "height": 564
        },
        "id": "Ex3AYXL8B46G",
        "outputId": "6b8a0cce-93f6-4b9b-f2c3-df3cb8abbef7"
      },
      "execution_count": 16,
      "outputs": [
        {
          "output_type": "display_data",
          "data": {
            "text/plain": [
              "<Figure size 1000x600 with 1 Axes>"
            ],
            "image/png": "[encoded data removed]"
          },
          "metadata": {}
        }
      ]
    },
    {
      "cell_type": "code",
      "source": [],
      "metadata": {
        "id": "kamKjxuWB48s"
      },
      "execution_count": null,
      "outputs": []
    },
    {
      "cell_type": "markdown",
      "source": [
        "# Step 7: Results and Interpretation\n",
        "\n",
        "* Epsilon-Greedy: This algorithm will balance exploration and exploitation. It may take longer to converge on the best arm but will eventually favor the arm with the highest reward.\n",
        "* UCB1: This algorithm tends to explore more in the beginning but quickly focuses on arms that show the most promise, leading to faster convergence.\n",
        "* Thompson Sampling: It balances exploration and exploitation in a more probabilistic way. It tends to perform well when rewards are uncertain, often outperforming Epsilon-Greedy and UCB1."
      ],
      "metadata": {
        "id": "ry7gv826SpiY"
      }
    },
    {
      "cell_type": "code",
      "source": [],
      "metadata": {
        "id": "Yj2ZLw98B5B0"
      },
      "execution_count": null,
      "outputs": []
    },
    {
      "cell_type": "markdown",
      "source": [
        "By running this simulation, we were able to see how the cumulative rewards of each algorithm differ over time.\n",
        "Thompson Sampling and UCB1 usually outperform Epsilon-Greedy, especially in environments with fewer arms and clear differences in reward probabilities."
      ],
      "metadata": {
        "id": "zzgbvk6PShM0"
      }
    },
    {
      "cell_type": "code",
      "source": [],
      "metadata": {
        "id": "mJsHqUuD5VIt"
      },
      "execution_count": null,
      "outputs": []
    },
    {
      "cell_type": "code",
      "source": [],
      "metadata": {
        "id": "czEUvcSPDXg2"
      },
      "execution_count": null,
      "outputs": []
    },
    {
      "cell_type": "code",
      "source": [],
      "metadata": {
        "id": "TGLVdp91DXqW"
      },
      "execution_count": null,
      "outputs": []
    }
  ]
}